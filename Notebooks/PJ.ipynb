{
 "cells": [
  {
   "cell_type": "code",
   "execution_count": 1,
   "id": "e7a9ac06-b051-47c6-b85f-567cf817c00c",
   "metadata": {},
   "outputs": [],
   "source": [
    "import pandas as pd"
   ]
  },
  {
   "cell_type": "code",
   "execution_count": null,
   "id": "91a0567b-0c40-4993-869c-15a004697634",
   "metadata": {},
   "outputs": [],
   "source": [
    "data = pd.read_csv('../Data/maseams.csv"
   ]
  }
 ],
 "metadata": {
  "kernelspec": {
   "display_name": "Python 3 (ipykernel)",
   "language": "python",
   "name": "python3"
  },
  "language_info": {
   "codemirror_mode": {
    "name": "ipython",
    "version": 3
   },
   "file_extension": ".py",
   "mimetype": "text/x-python",
   "name": "python",
   "nbconvert_exporter": "python",
   "pygments_lexer": "ipython3",
   "version": "3.10.5"
  }
 },
 "nbformat": 4,
 "nbformat_minor": 5
}
