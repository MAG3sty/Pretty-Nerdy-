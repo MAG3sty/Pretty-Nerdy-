{
 "cells": [
  {
   "cell_type": "code",
   "execution_count": 1,
   "id": "e7a9ac06-b051-47c6-b85f-567cf817c00c",
   "metadata": {},
   "outputs": [],
   "source": [
    "import pandas as pd\n",
    "import numpy as np"
   ]
  },
  {
   "cell_type": "code",
   "execution_count": 2,
   "id": "1ed79000-5b09-4379-b0d8-7c54adbf8adb",
   "metadata": {},
   "outputs": [],
   "source": [
    "es = pd.read_csv(\"C:/Users/Prisc/Downloads/EmployeeSatisfactionIndex/Employee Satisfaction Index.csv\")"
   ]
  },
  {
   "cell_type": "markdown",
   "id": "4573494a-98d6-40d5-85a9-c6f4fdfc5817",
   "metadata": {},
   "source": [
    "#### About Dataset\n",
    "#### emp_id - Unique ID\n",
    "#### age - Age\n",
    "#### Dept - Department\n",
    "#### location - Employee location\n",
    "#### education - Employees education status\n",
    "#### recruitment_type - Mode of recruitment\n",
    "#### job_level - 1 to 5. The job level of the employee. 1 being the least and 5 being the highest position\n",
    "#### rating - 1 to 5. The previous year rating of the employee. 1 being the least and 5 being the highest position\n",
    "#### onsite - Has the employee ever went to an onsite location? 0 and 1\n",
    "#### awards - No. of awards\n",
    "#### certifications - Is the employee certified?\n",
    "#### salary - Net Salary\n",
    "#### satisfied - Is the employee satisfied with his job?"
   ]
  },
  {
   "cell_type": "code",
   "execution_count": 3,
   "id": "a72ee5f0-e57f-4d42-9647-c2dd66d7a502",
   "metadata": {},
   "outputs": [
    {
     "data": {
      "text/html": [
       "<div>\n",
       "<style scoped>\n",
       "    .dataframe tbody tr th:only-of-type {\n",
       "        vertical-align: middle;\n",
       "    }\n",
       "\n",
       "    .dataframe tbody tr th {\n",
       "        vertical-align: top;\n",
       "    }\n",
       "\n",
       "    .dataframe thead th {\n",
       "        text-align: right;\n",
       "    }\n",
       "</style>\n",
       "<table border=\"1\" class=\"dataframe\">\n",
       "  <thead>\n",
       "    <tr style=\"text-align: right;\">\n",
       "      <th></th>\n",
       "      <th>Unnamed: 0</th>\n",
       "      <th>emp_id</th>\n",
       "      <th>age</th>\n",
       "      <th>Dept</th>\n",
       "      <th>location</th>\n",
       "      <th>education</th>\n",
       "      <th>recruitment_type</th>\n",
       "      <th>job_level</th>\n",
       "      <th>rating</th>\n",
       "      <th>onsite</th>\n",
       "      <th>awards</th>\n",
       "      <th>certifications</th>\n",
       "      <th>salary</th>\n",
       "      <th>satisfied</th>\n",
       "      <th>Unnamed: 14</th>\n",
       "      <th>Unnamed: 15</th>\n",
       "      <th>Unnamed: 16</th>\n",
       "    </tr>\n",
       "  </thead>\n",
       "  <tbody>\n",
       "    <tr>\n",
       "      <th>0</th>\n",
       "      <td>0.0</td>\n",
       "      <td>HR8270</td>\n",
       "      <td>28.0</td>\n",
       "      <td>HR</td>\n",
       "      <td>Suburb</td>\n",
       "      <td>PG</td>\n",
       "      <td>Referral</td>\n",
       "      <td>5.0</td>\n",
       "      <td>2.0</td>\n",
       "      <td>0.0</td>\n",
       "      <td>1.0</td>\n",
       "      <td>0.0</td>\n",
       "      <td>86750.0</td>\n",
       "      <td>1.0</td>\n",
       "      <td>NaN</td>\n",
       "      <td>NaN</td>\n",
       "      <td>NaN</td>\n",
       "    </tr>\n",
       "    <tr>\n",
       "      <th>1</th>\n",
       "      <td>1.0</td>\n",
       "      <td>TECH1860</td>\n",
       "      <td>50.0</td>\n",
       "      <td>Technology</td>\n",
       "      <td>Suburb</td>\n",
       "      <td>PG</td>\n",
       "      <td>Walk-in</td>\n",
       "      <td>3.0</td>\n",
       "      <td>5.0</td>\n",
       "      <td>1.0</td>\n",
       "      <td>2.0</td>\n",
       "      <td>1.0</td>\n",
       "      <td>42419.0</td>\n",
       "      <td>0.0</td>\n",
       "      <td>NaN</td>\n",
       "      <td>NaN</td>\n",
       "      <td>NaN</td>\n",
       "    </tr>\n",
       "    <tr>\n",
       "      <th>2</th>\n",
       "      <td>2.0</td>\n",
       "      <td>TECH6390</td>\n",
       "      <td>43.0</td>\n",
       "      <td>Technology</td>\n",
       "      <td>Suburb</td>\n",
       "      <td>UG</td>\n",
       "      <td>Referral</td>\n",
       "      <td>4.0</td>\n",
       "      <td>1.0</td>\n",
       "      <td>0.0</td>\n",
       "      <td>2.0</td>\n",
       "      <td>0.0</td>\n",
       "      <td>65715.0</td>\n",
       "      <td>0.0</td>\n",
       "      <td>NaN</td>\n",
       "      <td>NaN</td>\n",
       "      <td>NaN</td>\n",
       "    </tr>\n",
       "    <tr>\n",
       "      <th>3</th>\n",
       "      <td>3.0</td>\n",
       "      <td>SAL6191</td>\n",
       "      <td>44.0</td>\n",
       "      <td>Sales</td>\n",
       "      <td>City</td>\n",
       "      <td>PG</td>\n",
       "      <td>On-Campus</td>\n",
       "      <td>2.0</td>\n",
       "      <td>3.0</td>\n",
       "      <td>1.0</td>\n",
       "      <td>0.0</td>\n",
       "      <td>0.0</td>\n",
       "      <td>29805.0</td>\n",
       "      <td>1.0</td>\n",
       "      <td>NaN</td>\n",
       "      <td>NaN</td>\n",
       "      <td>NaN</td>\n",
       "    </tr>\n",
       "    <tr>\n",
       "      <th>4</th>\n",
       "      <td>4.0</td>\n",
       "      <td>HR6734</td>\n",
       "      <td>33.0</td>\n",
       "      <td>HR</td>\n",
       "      <td>City</td>\n",
       "      <td>UG</td>\n",
       "      <td>Recruitment Agency</td>\n",
       "      <td>2.0</td>\n",
       "      <td>1.0</td>\n",
       "      <td>0.0</td>\n",
       "      <td>5.0</td>\n",
       "      <td>0.0</td>\n",
       "      <td>29805.0</td>\n",
       "      <td>1.0</td>\n",
       "      <td>NaN</td>\n",
       "      <td>NaN</td>\n",
       "      <td>NaN</td>\n",
       "    </tr>\n",
       "  </tbody>\n",
       "</table>\n",
       "</div>"
      ],
      "text/plain": [
       "   Unnamed: 0    emp_id   age        Dept location education  \\\n",
       "0         0.0    HR8270  28.0          HR   Suburb        PG   \n",
       "1         1.0  TECH1860  50.0  Technology   Suburb        PG   \n",
       "2         2.0  TECH6390  43.0  Technology   Suburb        UG   \n",
       "3         3.0   SAL6191  44.0       Sales     City        PG   \n",
       "4         4.0    HR6734  33.0          HR     City        UG   \n",
       "\n",
       "     recruitment_type  job_level  rating  onsite  awards  certifications  \\\n",
       "0            Referral        5.0     2.0     0.0     1.0             0.0   \n",
       "1             Walk-in        3.0     5.0     1.0     2.0             1.0   \n",
       "2            Referral        4.0     1.0     0.0     2.0             0.0   \n",
       "3           On-Campus        2.0     3.0     1.0     0.0             0.0   \n",
       "4  Recruitment Agency        2.0     1.0     0.0     5.0             0.0   \n",
       "\n",
       "    salary  satisfied  Unnamed: 14 Unnamed: 15  Unnamed: 16  \n",
       "0  86750.0        1.0          NaN         NaN          NaN  \n",
       "1  42419.0        0.0          NaN         NaN          NaN  \n",
       "2  65715.0        0.0          NaN         NaN          NaN  \n",
       "3  29805.0        1.0          NaN         NaN          NaN  \n",
       "4  29805.0        1.0          NaN         NaN          NaN  "
      ]
     },
     "execution_count": 3,
     "metadata": {},
     "output_type": "execute_result"
    }
   ],
   "source": [
    "es.head()"
   ]
  },
  {
   "cell_type": "markdown",
   "id": "035b5a4f-994a-4182-816d-6691a4da83f7",
   "metadata": {},
   "source": [
    "##  Question: Are employees satisfied with their work life?"
   ]
  },
  {
   "cell_type": "markdown",
   "id": "dbaff591-cc11-425f-b1c3-c4f5e4da90c6",
   "metadata": {},
   "source": [
    "## Subsetting columns "
   ]
  },
  {
   "cell_type": "code",
   "execution_count": 4,
   "id": "88e52605-ed40-4033-aa3f-c68e5c5ca327",
   "metadata": {},
   "outputs": [],
   "source": [
    "es1= es[['age', 'Dept', 'location', 'education', 'recruitment_type', 'job_level', 'rating', 'onsite', 'salary', 'satisfied']]"
   ]
  },
  {
   "cell_type": "markdown",
   "id": "141b6500-081d-4286-a689-663cb6e7dc7d",
   "metadata": {},
   "source": [
    "#### Look for nan's and remove"
   ]
  },
  {
   "cell_type": "code",
   "execution_count": 5,
   "id": "70e52da1-02dd-40c8-bbfe-a71b2fa60d37",
   "metadata": {},
   "outputs": [
    {
     "data": {
      "text/plain": [
       "age                 21\n",
       "Dept                21\n",
       "location            21\n",
       "education           21\n",
       "recruitment_type    21\n",
       "job_level           21\n",
       "rating              21\n",
       "onsite              21\n",
       "salary              21\n",
       "satisfied           21\n",
       "dtype: int64"
      ]
     },
     "execution_count": 5,
     "metadata": {},
     "output_type": "execute_result"
    }
   ],
   "source": [
    "es1.isna().sum()"
   ]
  },
  {
   "cell_type": "code",
   "execution_count": 6,
   "id": "45f60796-c008-41b8-9d44-d541d58a4799",
   "metadata": {},
   "outputs": [],
   "source": [
    "es1 = es1.dropna()"
   ]
  },
  {
   "cell_type": "code",
   "execution_count": 7,
   "id": "da9c67c5-df76-4e4f-8921-095e1b966525",
   "metadata": {},
   "outputs": [
    {
     "name": "stdout",
     "output_type": "stream",
     "text": [
      "<class 'pandas.core.frame.DataFrame'>\n",
      "Int64Index: 500 entries, 0 to 499\n",
      "Data columns (total 10 columns):\n",
      " #   Column            Non-Null Count  Dtype  \n",
      "---  ------            --------------  -----  \n",
      " 0   age               500 non-null    float64\n",
      " 1   Dept              500 non-null    object \n",
      " 2   location          500 non-null    object \n",
      " 3   education         500 non-null    object \n",
      " 4   recruitment_type  500 non-null    object \n",
      " 5   job_level         500 non-null    float64\n",
      " 6   rating            500 non-null    float64\n",
      " 7   onsite            500 non-null    float64\n",
      " 8   salary            500 non-null    float64\n",
      " 9   satisfied         500 non-null    float64\n",
      "dtypes: float64(6), object(4)\n",
      "memory usage: 43.0+ KB\n"
     ]
    }
   ],
   "source": [
    "es1.info()"
   ]
  },
  {
   "cell_type": "code",
   "execution_count": 8,
   "id": "98649151-c8a2-4801-b3ec-00d54909c23f",
   "metadata": {},
   "outputs": [
    {
     "data": {
      "text/plain": [
       "array(['PG', 'UG'], dtype=object)"
      ]
     },
     "execution_count": 8,
     "metadata": {},
     "output_type": "execute_result"
    }
   ],
   "source": [
    "es1.education.unique()"
   ]
  },
  {
   "cell_type": "code",
   "execution_count": 9,
   "id": "7cf101ad-6055-49f7-ba85-6a2608318f83",
   "metadata": {},
   "outputs": [
    {
     "name": "stdout",
     "output_type": "stream",
     "text": [
      "<class 'pandas.core.series.Series'>\n",
      "Int64Index: 500 entries, 0 to 499\n",
      "Series name: recruitment_type\n",
      "Non-Null Count  Dtype \n",
      "--------------  ----- \n",
      "500 non-null    object\n",
      "dtypes: object(1)\n",
      "memory usage: 7.8+ KB\n"
     ]
    }
   ],
   "source": [
    "es1.recruitment_type.info()"
   ]
  },
  {
   "cell_type": "code",
   "execution_count": 11,
   "id": "ba7a288c-5e7c-4762-90db-d3752147c30e",
   "metadata": {},
   "outputs": [],
   "source": [
    "import matplotlib.pyplot as plt"
   ]
  },
  {
   "cell_type": "code",
   "execution_count": 15,
   "id": "64812b09-bca3-44d0-a71e-e1ed6cca9c7e",
   "metadata": {},
   "outputs": [
    {
     "data": {
      "text/plain": [
       "(array([237.,   0.,   0.,   0.,   0.,   0.,   0.,   0.,   0., 263.]),\n",
       " array([0. , 0.1, 0.2, 0.3, 0.4, 0.5, 0.6, 0.7, 0.8, 0.9, 1. ]),\n",
       " <BarContainer object of 10 artists>)"
      ]
     },
     "execution_count": 15,
     "metadata": {},
     "output_type": "execute_result"
    },
    {
     "data": {
      "image/png": "[encoded data removed]",
      "text/plain": [
       "<Figure size 432x288 with 1 Axes>"
      ]
     },
     "metadata": {
      "needs_background": "light"
     },
     "output_type": "display_data"
    }
   ],
   "source": [
    "plt.hist(es1.satisfied)"
   ]
  },
  {
   "cell_type": "code",
   "execution_count": null,
   "id": "b207916d-42a4-4a78-bf95-ada7f357bfdc",
   "metadata": {},
   "outputs": [],
   "source": []
  }
 ],
 "metadata": {
  "kernelspec": {
   "display_name": "Python 3 (ipykernel)",
   "language": "python",
   "name": "python3"
  },
  "language_info": {
   "codemirror_mode": {
    "name": "ipython",
    "version": 3
   },
   "file_extension": ".py",
   "mimetype": "text/x-python",
   "name": "python",
   "nbconvert_exporter": "python",
   "pygments_lexer": "ipython3",
   "version": "3.10.5"
  }
 },
 "nbformat": 4,
 "nbformat_minor": 5
}
