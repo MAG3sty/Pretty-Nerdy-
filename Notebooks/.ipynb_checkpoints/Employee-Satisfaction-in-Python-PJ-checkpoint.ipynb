{
 "cells": [
  {
   "cell_type": "code",
   "execution_count": 1,
   "id": "e7a9ac06-b051-47c6-b85f-567cf817c00c",
   "metadata": {},
   "outputs": [],
   "source": [
    "import pandas as pd\n",
    "import numpy as np"
   ]
  },
  {
   "cell_type": "code",
   "execution_count": 2,
   "id": "1ed79000-5b09-4379-b0d8-7c54adbf8adb",
   "metadata": {},
   "outputs": [],
   "source": [
    "es = pd.read_csv(\"C:/Users/Prisc/Downloads/EmployeeSatisfactionIndex/Employee Satisfaction Index.csv\")"
   ]
  },
  {
   "cell_type": "markdown",
   "id": "a89819de-8ab1-4e39-8081-be12c5130325",
   "metadata": {},
   "source": [
    "#### About Dataset\n",
    "#### emp_id - Unique ID\n",
    "#### age - Age\n",
    "#### Dept - Department\n",
    "#### location - Employee location\n",
    "#### education - Employees education status\n",
    "#### recruitment_type - Mode of recruitment\n",
    "#### job_level - 1 to 5. The job level of the employee. 1 being the least and 5 being the highest position\n",
    "#### rating - 1 to 5. The previous year rating of the employee. 1 being the least and 5 being the highest position\n",
    "#### onsite - Has the employee ever went to an onsite location? 0 and 1\n",
    "#### awards - No. of awards\n",
    "#### certifications - Is the employee certified?\n",
    "#### salary - Net Salary\n",
    "#### satisfied - Is the employee satisfied with his job?"
   ]
  },
  {
   "cell_type": "code",
   "execution_count": 3,
   "id": "a72ee5f0-e57f-4d42-9647-c2dd66d7a502",
   "metadata": {},
   "outputs": [
    {
     "data": {
      "text/html": [
       "<div>\n",
       "<style scoped>\n",
       "    .dataframe tbody tr th:only-of-type {\n",
       "        vertical-align: middle;\n",
       "    }\n",
       "\n",
       "    .dataframe tbody tr th {\n",
       "        vertical-align: top;\n",
       "    }\n",
       "\n",
       "    .dataframe thead th {\n",
       "        text-align: right;\n",
       "    }\n",
       "</style>\n",
       "<table border=\"1\" class=\"dataframe\">\n",
       "  <thead>\n",
       "    <tr style=\"text-align: right;\">\n",
       "      <th></th>\n",
       "      <th>Unnamed: 0</th>\n",
       "      <th>emp_id</th>\n",
       "      <th>age</th>\n",
       "      <th>Dept</th>\n",
       "      <th>location</th>\n",
       "      <th>education</th>\n",
       "      <th>recruitment_type</th>\n",
       "      <th>job_level</th>\n",
       "      <th>rating</th>\n",
       "      <th>onsite</th>\n",
       "      <th>awards</th>\n",
       "      <th>certifications</th>\n",
       "      <th>salary</th>\n",
       "      <th>satisfied</th>\n",
       "      <th>Unnamed: 14</th>\n",
       "      <th>Unnamed: 15</th>\n",
       "      <th>Unnamed: 16</th>\n",
       "    </tr>\n",
       "  </thead>\n",
       "  <tbody>\n",
       "    <tr>\n",
       "      <th>0</th>\n",
       "      <td>0.0</td>\n",
       "      <td>HR8270</td>\n",
       "      <td>28.0</td>\n",
       "      <td>HR</td>\n",
       "      <td>Suburb</td>\n",
       "      <td>PG</td>\n",
       "      <td>Referral</td>\n",
       "      <td>5.0</td>\n",
       "      <td>2.0</td>\n",
       "      <td>0.0</td>\n",
       "      <td>1.0</td>\n",
       "      <td>0.0</td>\n",
       "      <td>86750.0</td>\n",
       "      <td>1.0</td>\n",
       "      <td>NaN</td>\n",
       "      <td>NaN</td>\n",
       "      <td>NaN</td>\n",
       "    </tr>\n",
       "    <tr>\n",
       "      <th>1</th>\n",
       "      <td>1.0</td>\n",
       "      <td>TECH1860</td>\n",
       "      <td>50.0</td>\n",
       "      <td>Technology</td>\n",
       "      <td>Suburb</td>\n",
       "      <td>PG</td>\n",
       "      <td>Walk-in</td>\n",
       "      <td>3.0</td>\n",
       "      <td>5.0</td>\n",
       "      <td>1.0</td>\n",
       "      <td>2.0</td>\n",
       "      <td>1.0</td>\n",
       "      <td>42419.0</td>\n",
       "      <td>0.0</td>\n",
       "      <td>NaN</td>\n",
       "      <td>NaN</td>\n",
       "      <td>NaN</td>\n",
       "    </tr>\n",
       "    <tr>\n",
       "      <th>2</th>\n",
       "      <td>2.0</td>\n",
       "      <td>TECH6390</td>\n",
       "      <td>43.0</td>\n",
       "      <td>Technology</td>\n",
       "      <td>Suburb</td>\n",
       "      <td>UG</td>\n",
       "      <td>Referral</td>\n",
       "      <td>4.0</td>\n",
       "      <td>1.0</td>\n",
       "      <td>0.0</td>\n",
       "      <td>2.0</td>\n",
       "      <td>0.0</td>\n",
       "      <td>65715.0</td>\n",
       "      <td>0.0</td>\n",
       "      <td>NaN</td>\n",
       "      <td>NaN</td>\n",
       "      <td>NaN</td>\n",
       "    </tr>\n",
       "    <tr>\n",
       "      <th>3</th>\n",
       "      <td>3.0</td>\n",
       "      <td>SAL6191</td>\n",
       "      <td>44.0</td>\n",
       "      <td>Sales</td>\n",
       "      <td>City</td>\n",
       "      <td>PG</td>\n",
       "      <td>On-Campus</td>\n",
       "      <td>2.0</td>\n",
       "      <td>3.0</td>\n",
       "      <td>1.0</td>\n",
       "      <td>0.0</td>\n",
       "      <td>0.0</td>\n",
       "      <td>29805.0</td>\n",
       "      <td>1.0</td>\n",
       "      <td>NaN</td>\n",
       "      <td>NaN</td>\n",
       "      <td>NaN</td>\n",
       "    </tr>\n",
       "    <tr>\n",
       "      <th>4</th>\n",
       "      <td>4.0</td>\n",
       "      <td>HR6734</td>\n",
       "      <td>33.0</td>\n",
       "      <td>HR</td>\n",
       "      <td>City</td>\n",
       "      <td>UG</td>\n",
       "      <td>Recruitment Agency</td>\n",
       "      <td>2.0</td>\n",
       "      <td>1.0</td>\n",
       "      <td>0.0</td>\n",
       "      <td>5.0</td>\n",
       "      <td>0.0</td>\n",
       "      <td>29805.0</td>\n",
       "      <td>1.0</td>\n",
       "      <td>NaN</td>\n",
       "      <td>NaN</td>\n",
       "      <td>NaN</td>\n",
       "    </tr>\n",
       "  </tbody>\n",
       "</table>\n",
       "</div>"
      ],
      "text/plain": [
       "   Unnamed: 0    emp_id   age        Dept location education  \\\n",
       "0         0.0    HR8270  28.0          HR   Suburb        PG   \n",
       "1         1.0  TECH1860  50.0  Technology   Suburb        PG   \n",
       "2         2.0  TECH6390  43.0  Technology   Suburb        UG   \n",
       "3         3.0   SAL6191  44.0       Sales     City        PG   \n",
       "4         4.0    HR6734  33.0          HR     City        UG   \n",
       "\n",
       "     recruitment_type  job_level  rating  onsite  awards  certifications  \\\n",
       "0            Referral        5.0     2.0     0.0     1.0             0.0   \n",
       "1             Walk-in        3.0     5.0     1.0     2.0             1.0   \n",
       "2            Referral        4.0     1.0     0.0     2.0             0.0   \n",
       "3           On-Campus        2.0     3.0     1.0     0.0             0.0   \n",
       "4  Recruitment Agency        2.0     1.0     0.0     5.0             0.0   \n",
       "\n",
       "    salary  satisfied  Unnamed: 14 Unnamed: 15  Unnamed: 16  \n",
       "0  86750.0        1.0          NaN         NaN          NaN  \n",
       "1  42419.0        0.0          NaN         NaN          NaN  \n",
       "2  65715.0        0.0          NaN         NaN          NaN  \n",
       "3  29805.0        1.0          NaN         NaN          NaN  \n",
       "4  29805.0        1.0          NaN         NaN          NaN  "
      ]
     },
     "execution_count": 3,
     "metadata": {},
     "output_type": "execute_result"
    }
   ],
   "source": [
    "es.head()"
   ]
  },
  {
   "cell_type": "markdown",
   "id": "035b5a4f-994a-4182-816d-6691a4da83f7",
   "metadata": {},
   "source": [
    "##  Question: Are employees satisfied with their work life?"
   ]
  },
  {
   "cell_type": "markdown",
   "id": "7511a75d-92c7-467d-9ba2-2e0b4171fa3a",
   "metadata": {},
   "source": [
    "#### Subsetting columns "
   ]
  },
  {
   "cell_type": "code",
   "execution_count": 4,
   "id": "88e52605-ed40-4033-aa3f-c68e5c5ca327",
   "metadata": {},
   "outputs": [],
   "source": [
    "es1= es[['age', 'Dept', 'location', 'education', 'recruitment_type', 'job_level', 'rating', 'onsite', 'salary', 'satisfied']]"
   ]
  },
  {
   "cell_type": "code",
   "execution_count": 5,
   "id": "e72917f0-6855-4fc1-b708-d01ec1f02f8d",
   "metadata": {},
   "outputs": [
    {
     "data": {
      "text/html": [
       "<div>\n",
       "<style scoped>\n",
       "    .dataframe tbody tr th:only-of-type {\n",
       "        vertical-align: middle;\n",
       "    }\n",
       "\n",
       "    .dataframe tbody tr th {\n",
       "        vertical-align: top;\n",
       "    }\n",
       "\n",
       "    .dataframe thead th {\n",
       "        text-align: right;\n",
       "    }\n",
       "</style>\n",
       "<table border=\"1\" class=\"dataframe\">\n",
       "  <thead>\n",
       "    <tr style=\"text-align: right;\">\n",
       "      <th></th>\n",
       "      <th>age</th>\n",
       "      <th>Dept</th>\n",
       "      <th>location</th>\n",
       "      <th>education</th>\n",
       "      <th>recruitment_type</th>\n",
       "      <th>job_level</th>\n",
       "      <th>rating</th>\n",
       "      <th>onsite</th>\n",
       "      <th>salary</th>\n",
       "      <th>satisfied</th>\n",
       "    </tr>\n",
       "  </thead>\n",
       "  <tbody>\n",
       "    <tr>\n",
       "      <th>0</th>\n",
       "      <td>28.0</td>\n",
       "      <td>HR</td>\n",
       "      <td>Suburb</td>\n",
       "      <td>PG</td>\n",
       "      <td>Referral</td>\n",
       "      <td>5.0</td>\n",
       "      <td>2.0</td>\n",
       "      <td>0.0</td>\n",
       "      <td>86750.0</td>\n",
       "      <td>1.0</td>\n",
       "    </tr>\n",
       "    <tr>\n",
       "      <th>1</th>\n",
       "      <td>50.0</td>\n",
       "      <td>Technology</td>\n",
       "      <td>Suburb</td>\n",
       "      <td>PG</td>\n",
       "      <td>Walk-in</td>\n",
       "      <td>3.0</td>\n",
       "      <td>5.0</td>\n",
       "      <td>1.0</td>\n",
       "      <td>42419.0</td>\n",
       "      <td>0.0</td>\n",
       "    </tr>\n",
       "    <tr>\n",
       "      <th>2</th>\n",
       "      <td>43.0</td>\n",
       "      <td>Technology</td>\n",
       "      <td>Suburb</td>\n",
       "      <td>UG</td>\n",
       "      <td>Referral</td>\n",
       "      <td>4.0</td>\n",
       "      <td>1.0</td>\n",
       "      <td>0.0</td>\n",
       "      <td>65715.0</td>\n",
       "      <td>0.0</td>\n",
       "    </tr>\n",
       "    <tr>\n",
       "      <th>3</th>\n",
       "      <td>44.0</td>\n",
       "      <td>Sales</td>\n",
       "      <td>City</td>\n",
       "      <td>PG</td>\n",
       "      <td>On-Campus</td>\n",
       "      <td>2.0</td>\n",
       "      <td>3.0</td>\n",
       "      <td>1.0</td>\n",
       "      <td>29805.0</td>\n",
       "      <td>1.0</td>\n",
       "    </tr>\n",
       "    <tr>\n",
       "      <th>4</th>\n",
       "      <td>33.0</td>\n",
       "      <td>HR</td>\n",
       "      <td>City</td>\n",
       "      <td>UG</td>\n",
       "      <td>Recruitment Agency</td>\n",
       "      <td>2.0</td>\n",
       "      <td>1.0</td>\n",
       "      <td>0.0</td>\n",
       "      <td>29805.0</td>\n",
       "      <td>1.0</td>\n",
       "    </tr>\n",
       "    <tr>\n",
       "      <th>...</th>\n",
       "      <td>...</td>\n",
       "      <td>...</td>\n",
       "      <td>...</td>\n",
       "      <td>...</td>\n",
       "      <td>...</td>\n",
       "      <td>...</td>\n",
       "      <td>...</td>\n",
       "      <td>...</td>\n",
       "      <td>...</td>\n",
       "      <td>...</td>\n",
       "    </tr>\n",
       "    <tr>\n",
       "      <th>516</th>\n",
       "      <td>NaN</td>\n",
       "      <td>NaN</td>\n",
       "      <td>NaN</td>\n",
       "      <td>NaN</td>\n",
       "      <td>NaN</td>\n",
       "      <td>NaN</td>\n",
       "      <td>NaN</td>\n",
       "      <td>NaN</td>\n",
       "      <td>NaN</td>\n",
       "      <td>NaN</td>\n",
       "    </tr>\n",
       "    <tr>\n",
       "      <th>517</th>\n",
       "      <td>NaN</td>\n",
       "      <td>NaN</td>\n",
       "      <td>NaN</td>\n",
       "      <td>NaN</td>\n",
       "      <td>NaN</td>\n",
       "      <td>NaN</td>\n",
       "      <td>NaN</td>\n",
       "      <td>NaN</td>\n",
       "      <td>NaN</td>\n",
       "      <td>NaN</td>\n",
       "    </tr>\n",
       "    <tr>\n",
       "      <th>518</th>\n",
       "      <td>NaN</td>\n",
       "      <td>NaN</td>\n",
       "      <td>NaN</td>\n",
       "      <td>NaN</td>\n",
       "      <td>NaN</td>\n",
       "      <td>NaN</td>\n",
       "      <td>NaN</td>\n",
       "      <td>NaN</td>\n",
       "      <td>NaN</td>\n",
       "      <td>NaN</td>\n",
       "    </tr>\n",
       "    <tr>\n",
       "      <th>519</th>\n",
       "      <td>NaN</td>\n",
       "      <td>NaN</td>\n",
       "      <td>NaN</td>\n",
       "      <td>NaN</td>\n",
       "      <td>NaN</td>\n",
       "      <td>NaN</td>\n",
       "      <td>NaN</td>\n",
       "      <td>NaN</td>\n",
       "      <td>NaN</td>\n",
       "      <td>NaN</td>\n",
       "    </tr>\n",
       "    <tr>\n",
       "      <th>520</th>\n",
       "      <td>NaN</td>\n",
       "      <td>NaN</td>\n",
       "      <td>NaN</td>\n",
       "      <td>NaN</td>\n",
       "      <td>NaN</td>\n",
       "      <td>NaN</td>\n",
       "      <td>NaN</td>\n",
       "      <td>NaN</td>\n",
       "      <td>NaN</td>\n",
       "      <td>NaN</td>\n",
       "    </tr>\n",
       "  </tbody>\n",
       "</table>\n",
       "<p>521 rows × 10 columns</p>\n",
       "</div>"
      ],
      "text/plain": [
       "      age        Dept location education    recruitment_type  job_level  \\\n",
       "0    28.0          HR   Suburb        PG            Referral        5.0   \n",
       "1    50.0  Technology   Suburb        PG             Walk-in        3.0   \n",
       "2    43.0  Technology   Suburb        UG            Referral        4.0   \n",
       "3    44.0       Sales     City        PG           On-Campus        2.0   \n",
       "4    33.0          HR     City        UG  Recruitment Agency        2.0   \n",
       "..    ...         ...      ...       ...                 ...        ...   \n",
       "516   NaN         NaN      NaN       NaN                 NaN        NaN   \n",
       "517   NaN         NaN      NaN       NaN                 NaN        NaN   \n",
       "518   NaN         NaN      NaN       NaN                 NaN        NaN   \n",
       "519   NaN         NaN      NaN       NaN                 NaN        NaN   \n",
       "520   NaN         NaN      NaN       NaN                 NaN        NaN   \n",
       "\n",
       "     rating  onsite   salary  satisfied  \n",
       "0       2.0     0.0  86750.0        1.0  \n",
       "1       5.0     1.0  42419.0        0.0  \n",
       "2       1.0     0.0  65715.0        0.0  \n",
       "3       3.0     1.0  29805.0        1.0  \n",
       "4       1.0     0.0  29805.0        1.0  \n",
       "..      ...     ...      ...        ...  \n",
       "516     NaN     NaN      NaN        NaN  \n",
       "517     NaN     NaN      NaN        NaN  \n",
       "518     NaN     NaN      NaN        NaN  \n",
       "519     NaN     NaN      NaN        NaN  \n",
       "520     NaN     NaN      NaN        NaN  \n",
       "\n",
       "[521 rows x 10 columns]"
      ]
     },
     "execution_count": 5,
     "metadata": {},
     "output_type": "execute_result"
    }
   ],
   "source": [
    "es1"
   ]
  },
  {
   "cell_type": "markdown",
   "id": "bd497b57-c792-40ac-a4c7-41245bb32c7d",
   "metadata": {},
   "source": [
    "#### Look for nan's and remove"
   ]
  },
  {
   "cell_type": "code",
   "execution_count": 6,
   "id": "70e52da1-02dd-40c8-bbfe-a71b2fa60d37",
   "metadata": {},
   "outputs": [
    {
     "data": {
      "text/plain": [
       "age                 21\n",
       "Dept                21\n",
       "location            21\n",
       "education           21\n",
       "recruitment_type    21\n",
       "job_level           21\n",
       "rating              21\n",
       "onsite              21\n",
       "salary              21\n",
       "satisfied           21\n",
       "dtype: int64"
      ]
     },
     "execution_count": 6,
     "metadata": {},
     "output_type": "execute_result"
    }
   ],
   "source": [
    "es1.isna().sum()"
   ]
  },
  {
   "cell_type": "code",
   "execution_count": 7,
   "id": "45f60796-c008-41b8-9d44-d541d58a4799",
   "metadata": {},
   "outputs": [],
   "source": [
    "es1 = es1.dropna()"
   ]
  },
  {
   "cell_type": "code",
   "execution_count": 8,
   "id": "da9c67c5-df76-4e4f-8921-095e1b966525",
   "metadata": {
    "tags": []
   },
   "outputs": [
    {
     "name": "stdout",
     "output_type": "stream",
     "text": [
      "<class 'pandas.core.frame.DataFrame'>\n",
      "Int64Index: 500 entries, 0 to 499\n",
      "Data columns (total 10 columns):\n",
      " #   Column            Non-Null Count  Dtype  \n",
      "---  ------            --------------  -----  \n",
      " 0   age               500 non-null    float64\n",
      " 1   Dept              500 non-null    object \n",
      " 2   location          500 non-null    object \n",
      " 3   education         500 non-null    object \n",
      " 4   recruitment_type  500 non-null    object \n",
      " 5   job_level         500 non-null    float64\n",
      " 6   rating            500 non-null    float64\n",
      " 7   onsite            500 non-null    float64\n",
      " 8   salary            500 non-null    float64\n",
      " 9   satisfied         500 non-null    float64\n",
      "dtypes: float64(6), object(4)\n",
      "memory usage: 43.0+ KB\n"
     ]
    }
   ],
   "source": [
    "es1.info()"
   ]
  },
  {
   "cell_type": "markdown",
   "id": "cf32f79e-0870-46e6-bcf0-42f9d54d6981",
   "metadata": {},
   "source": [
    "#### Changing floats into integers"
   ]
  },
  {
   "cell_type": "code",
   "execution_count": 9,
   "id": "508a2830-ecf2-4118-bdf0-7cb170cb3a1a",
   "metadata": {
    "tags": []
   },
   "outputs": [
    {
     "name": "stderr",
     "output_type": "stream",
     "text": [
      "C:\\Users\\Prisc\\AppData\\Local\\Temp\\ipykernel_6508\\147028994.py:1: SettingWithCopyWarning: \n",
      "A value is trying to be set on a copy of a slice from a DataFrame.\n",
      "Try using .loc[row_indexer,col_indexer] = value instead\n",
      "\n",
      "See the caveats in the documentation: https://pandas.pydata.org/pandas-docs/stable/user_guide/indexing.html#returning-a-view-versus-a-copy\n",
      "  es1['age'] = es1['age'].astype(int)\n",
      "C:\\Users\\Prisc\\AppData\\Local\\Temp\\ipykernel_6508\\147028994.py:2: SettingWithCopyWarning: \n",
      "A value is trying to be set on a copy of a slice from a DataFrame.\n",
      "Try using .loc[row_indexer,col_indexer] = value instead\n",
      "\n",
      "See the caveats in the documentation: https://pandas.pydata.org/pandas-docs/stable/user_guide/indexing.html#returning-a-view-versus-a-copy\n",
      "  es1['job_level'] = es1['job_level'].astype(int)\n",
      "C:\\Users\\Prisc\\AppData\\Local\\Temp\\ipykernel_6508\\147028994.py:3: SettingWithCopyWarning: \n",
      "A value is trying to be set on a copy of a slice from a DataFrame.\n",
      "Try using .loc[row_indexer,col_indexer] = value instead\n",
      "\n",
      "See the caveats in the documentation: https://pandas.pydata.org/pandas-docs/stable/user_guide/indexing.html#returning-a-view-versus-a-copy\n",
      "  es1['rating'] = es1['rating'].astype(int)\n",
      "C:\\Users\\Prisc\\AppData\\Local\\Temp\\ipykernel_6508\\147028994.py:4: SettingWithCopyWarning: \n",
      "A value is trying to be set on a copy of a slice from a DataFrame.\n",
      "Try using .loc[row_indexer,col_indexer] = value instead\n",
      "\n",
      "See the caveats in the documentation: https://pandas.pydata.org/pandas-docs/stable/user_guide/indexing.html#returning-a-view-versus-a-copy\n",
      "  es1['onsite'] = es1['onsite'].astype(int)\n",
      "C:\\Users\\Prisc\\AppData\\Local\\Temp\\ipykernel_6508\\147028994.py:5: SettingWithCopyWarning: \n",
      "A value is trying to be set on a copy of a slice from a DataFrame.\n",
      "Try using .loc[row_indexer,col_indexer] = value instead\n",
      "\n",
      "See the caveats in the documentation: https://pandas.pydata.org/pandas-docs/stable/user_guide/indexing.html#returning-a-view-versus-a-copy\n",
      "  es1['salary'] = es1['salary'].astype(int)\n",
      "C:\\Users\\Prisc\\AppData\\Local\\Temp\\ipykernel_6508\\147028994.py:6: SettingWithCopyWarning: \n",
      "A value is trying to be set on a copy of a slice from a DataFrame.\n",
      "Try using .loc[row_indexer,col_indexer] = value instead\n",
      "\n",
      "See the caveats in the documentation: https://pandas.pydata.org/pandas-docs/stable/user_guide/indexing.html#returning-a-view-versus-a-copy\n",
      "  es1['satisfied'] = es1['satisfied'].astype(int)\n"
     ]
    }
   ],
   "source": [
    "es1['age'] = es1['age'].astype(int)\n",
    "es1['job_level'] = es1['job_level'].astype(int)\n",
    "es1['rating'] = es1['rating'].astype(int)\n",
    "es1['onsite'] = es1['onsite'].astype(int)\n",
    "es1['salary'] = es1['salary'].astype(int)\n",
    "es1['satisfied'] = es1['satisfied'].astype(int)"
   ]
  },
  {
   "cell_type": "code",
   "execution_count": 75,
   "id": "e06a0119-c221-4289-9bbf-9884250859a9",
   "metadata": {},
   "outputs": [
    {
     "name": "stderr",
     "output_type": "stream",
     "text": [
      "C:\\Users\\Prisc\\AppData\\Local\\Temp\\ipykernel_6508\\3604405228.py:9: SettingWithCopyWarning: \n",
      "A value is trying to be set on a copy of a slice from a DataFrame.\n",
      "Try using .loc[row_indexer,col_indexer] = value instead\n",
      "\n",
      "See the caveats in the documentation: https://pandas.pydata.org/pandas-docs/stable/user_guide/indexing.html#returning-a-view-versus-a-copy\n",
      "  es1['GenType'] = es1['age'].apply(gentype)\n"
     ]
    }
   ],
   "source": [
    "def gentype(series):\n",
    "    if series < 27:\n",
    "        return 'GenZ 11-26'\n",
    "    elif 27<= series < 43:\n",
    "        return 'Millennials 27-42'\n",
    "    elif 43<= series < 58:\n",
    "        return 'GenX 42-58'\n",
    "    \n",
    "es1['GenType'] = es1['age'].apply(gentype)    "
   ]
  },
  {
   "cell_type": "code",
   "execution_count": 11,
   "id": "c53bfa5a-3018-41c4-a0d9-a5826b732461",
   "metadata": {},
   "outputs": [],
   "source": [
    "# Age is between 23-54 GenZ11-26, Millennials27-42, GenX43-58"
   ]
  },
  {
   "cell_type": "code",
   "execution_count": 76,
   "id": "e4835f11-dfdf-44e4-89c1-8dfce2922d39",
   "metadata": {},
   "outputs": [
    {
     "data": {
      "text/html": [
       "<div>\n",
       "<style scoped>\n",
       "    .dataframe tbody tr th:only-of-type {\n",
       "        vertical-align: middle;\n",
       "    }\n",
       "\n",
       "    .dataframe tbody tr th {\n",
       "        vertical-align: top;\n",
       "    }\n",
       "\n",
       "    .dataframe thead th {\n",
       "        text-align: right;\n",
       "    }\n",
       "</style>\n",
       "<table border=\"1\" class=\"dataframe\">\n",
       "  <thead>\n",
       "    <tr style=\"text-align: right;\">\n",
       "      <th></th>\n",
       "      <th>age</th>\n",
       "      <th>Dept</th>\n",
       "      <th>location</th>\n",
       "      <th>education</th>\n",
       "      <th>recruitment_type</th>\n",
       "      <th>job_level</th>\n",
       "      <th>rating</th>\n",
       "      <th>onsite</th>\n",
       "      <th>salary</th>\n",
       "      <th>satisfied</th>\n",
       "      <th>GenType</th>\n",
       "    </tr>\n",
       "  </thead>\n",
       "  <tbody>\n",
       "    <tr>\n",
       "      <th>0</th>\n",
       "      <td>28</td>\n",
       "      <td>HR</td>\n",
       "      <td>Suburb</td>\n",
       "      <td>PG</td>\n",
       "      <td>Referral</td>\n",
       "      <td>5</td>\n",
       "      <td>2</td>\n",
       "      <td>0</td>\n",
       "      <td>86750</td>\n",
       "      <td>1</td>\n",
       "      <td>Millennials 27-42</td>\n",
       "    </tr>\n",
       "    <tr>\n",
       "      <th>1</th>\n",
       "      <td>50</td>\n",
       "      <td>Technology</td>\n",
       "      <td>Suburb</td>\n",
       "      <td>PG</td>\n",
       "      <td>Walk-in</td>\n",
       "      <td>3</td>\n",
       "      <td>5</td>\n",
       "      <td>1</td>\n",
       "      <td>42419</td>\n",
       "      <td>0</td>\n",
       "      <td>GenX 42-58</td>\n",
       "    </tr>\n",
       "    <tr>\n",
       "      <th>2</th>\n",
       "      <td>43</td>\n",
       "      <td>Technology</td>\n",
       "      <td>Suburb</td>\n",
       "      <td>UG</td>\n",
       "      <td>Referral</td>\n",
       "      <td>4</td>\n",
       "      <td>1</td>\n",
       "      <td>0</td>\n",
       "      <td>65715</td>\n",
       "      <td>0</td>\n",
       "      <td>GenX 42-58</td>\n",
       "    </tr>\n",
       "    <tr>\n",
       "      <th>3</th>\n",
       "      <td>44</td>\n",
       "      <td>Sales</td>\n",
       "      <td>City</td>\n",
       "      <td>PG</td>\n",
       "      <td>On-Campus</td>\n",
       "      <td>2</td>\n",
       "      <td>3</td>\n",
       "      <td>1</td>\n",
       "      <td>29805</td>\n",
       "      <td>1</td>\n",
       "      <td>GenX 42-58</td>\n",
       "    </tr>\n",
       "    <tr>\n",
       "      <th>4</th>\n",
       "      <td>33</td>\n",
       "      <td>HR</td>\n",
       "      <td>City</td>\n",
       "      <td>UG</td>\n",
       "      <td>Recruitment Agency</td>\n",
       "      <td>2</td>\n",
       "      <td>1</td>\n",
       "      <td>0</td>\n",
       "      <td>29805</td>\n",
       "      <td>1</td>\n",
       "      <td>Millennials 27-42</td>\n",
       "    </tr>\n",
       "  </tbody>\n",
       "</table>\n",
       "</div>"
      ],
      "text/plain": [
       "   age        Dept location education    recruitment_type  job_level  rating  \\\n",
       "0   28          HR   Suburb        PG            Referral          5       2   \n",
       "1   50  Technology   Suburb        PG             Walk-in          3       5   \n",
       "2   43  Technology   Suburb        UG            Referral          4       1   \n",
       "3   44       Sales     City        PG           On-Campus          2       3   \n",
       "4   33          HR     City        UG  Recruitment Agency          2       1   \n",
       "\n",
       "   onsite  salary  satisfied            GenType  \n",
       "0       0   86750          1  Millennials 27-42  \n",
       "1       1   42419          0         GenX 42-58  \n",
       "2       0   65715          0         GenX 42-58  \n",
       "3       1   29805          1         GenX 42-58  \n",
       "4       0   29805          1  Millennials 27-42  "
      ]
     },
     "execution_count": 76,
     "metadata": {},
     "output_type": "execute_result"
    }
   ],
   "source": [
    "es1.head()"
   ]
  },
  {
   "cell_type": "code",
   "execution_count": 80,
   "id": "48bb455e-593d-4cdb-8010-71c0cd9c95c3",
   "metadata": {},
   "outputs": [],
   "source": [
    "es1.to_csv(\"../Data/es1PJ.csv\",index=True)"
   ]
  },
  {
   "cell_type": "code",
   "execution_count": 81,
   "id": "9810deae-d8c6-4d05-87b1-eedc964b003d",
   "metadata": {
    "tags": []
   },
   "outputs": [
    {
     "data": {
      "text/plain": [
       "age  Dept        location  education  recruitment_type  job_level  rating  onsite  salary  satisfied  GenType          \n",
       "23   HR          City      PG         Walk-in           5          5       1       86750   0          GenZ 11-26           1\n",
       "44   Marketing   Suburb    PG         Walk-in           3          2       0       42419   1          GenX 42-58           1\n",
       "45   HR          Suburb    PG         Referral          2          5       0       29805   0          GenX 42-58           1\n",
       "                 City      UG         Referral          5          1       0       86750   1          GenX 42-58           1\n",
       "44   Technology  Suburb    UG         Walk-in           2          4       1       29805   1          GenX 42-58           1\n",
       "                                                                                                                          ..\n",
       "33   Purchasing  Suburb    PG         Walk-in           5          2       1       86750   0          Millennials 27-42    1\n",
       "     Marketing   City      UG         On-Campus         3          3       0       42419   1          Millennials 27-42    1\n",
       "                                                        1          2       1       24076   1          Millennials 27-42    1\n",
       "                           PG         Walk-in           5          2       1       86750   0          Millennials 27-42    1\n",
       "54   Technology  Suburb    UG         Referral          5          1       0       86750   1          GenX 42-58           1\n",
       "Length: 500, dtype: int64"
      ]
     },
     "execution_count": 81,
     "metadata": {},
     "output_type": "execute_result"
    }
   ],
   "source": [
    "es1.value_counts()"
   ]
  },
  {
   "cell_type": "code",
   "execution_count": 15,
   "id": "7cf101ad-6055-49f7-ba85-6a2608318f83",
   "metadata": {},
   "outputs": [
    {
     "data": {
      "text/plain": [
       "array(['Referral', 'Walk-in', 'On-Campus', 'Recruitment Agency'],\n",
       "      dtype=object)"
      ]
     },
     "execution_count": 15,
     "metadata": {},
     "output_type": "execute_result"
    }
   ],
   "source": [
    "es1.recruitment_type.unique()"
   ]
  },
  {
   "cell_type": "code",
   "execution_count": 16,
   "id": "ba7a288c-5e7c-4762-90db-d3752147c30e",
   "metadata": {},
   "outputs": [],
   "source": [
    "import matplotlib.pyplot as plt\n",
    "import seaborn as sns"
   ]
  },
  {
   "cell_type": "markdown",
   "id": "0b0f1c6b-9e42-4870-99a4-ee1c029779a1",
   "metadata": {
    "tags": []
   },
   "source": [
    "#### Creating a bar graph to compaire the IV to the DV (satisfied)"
   ]
  },
  {
   "cell_type": "code",
   "execution_count": 85,
   "id": "e32b24b5-4d48-4947-90a9-d728e7420a7a",
   "metadata": {},
   "outputs": [
    {
     "data": {
      "text/plain": [
       "1    263\n",
       "0    237\n",
       "Name: satisfied, dtype: int64"
      ]
     },
     "execution_count": 85,
     "metadata": {},
     "output_type": "execute_result"
    }
   ],
   "source": [
    "es1.satisfied.value_counts()"
   ]
  },
  {
   "cell_type": "code",
   "execution_count": 86,
   "id": "f3bd3d03-bea2-45a8-9041-583778d16d11",
   "metadata": {},
   "outputs": [
    {
     "data": {
      "text/plain": [
       "<AxesSubplot: xlabel='GenType,satisfied'>"
      ]
     },
     "execution_count": 86,
     "metadata": {},
     "output_type": "execute_result"
    },
    {
     "data": {
      "image/png": "[encoded data removed]",
      "text/plain": [
       "<Figure size 432x288 with 1 Axes>"
      ]
     },
     "metadata": {
      "needs_background": "light"
     },
     "output_type": "display_data"
    }
   ],
   "source": [
    "es1[['GenType', 'satisfied']].value_counts().plot(kind='bar')"
   ]
  },
  {
   "cell_type": "code",
   "execution_count": 87,
   "id": "6690ed9c-baff-48be-9ed4-0e22426bc339",
   "metadata": {},
   "outputs": [
    {
     "data": {
      "text/plain": [
       "count                   500\n",
       "unique                    3\n",
       "top       Millennials 27-42\n",
       "freq                    238\n",
       "Name: GenType, dtype: object"
      ]
     },
     "execution_count": 87,
     "metadata": {},
     "output_type": "execute_result"
    }
   ],
   "source": [
    "es1.GenType.describe()"
   ]
  },
  {
   "cell_type": "code",
   "execution_count": 18,
   "id": "67a4a34b-a7cc-46f8-ad52-e9ba7535d8f2",
   "metadata": {},
   "outputs": [
    {
     "data": {
      "text/plain": [
       "<AxesSubplot: xlabel='age,satisfied'>"
      ]
     },
     "execution_count": 18,
     "metadata": {},
     "output_type": "execute_result"
    },
    {
     "data": {
      "image/png": "[encoded data removed]",
      "text/plain": [
       "<Figure size 432x288 with 1 Axes>"
      ]
     },
     "metadata": {
      "needs_background": "light"
     },
     "output_type": "display_data"
    }
   ],
   "source": [
    "es1[['age', 'satisfied']].value_counts().plot(kind='bar') "
   ]
  },
  {
   "cell_type": "code",
   "execution_count": 19,
   "id": "5c720427-09a7-4590-9bcf-a9b52bf6d174",
   "metadata": {},
   "outputs": [
    {
     "data": {
      "text/plain": [
       "count    500.000000\n",
       "mean      38.610000\n",
       "std        9.438648\n",
       "min       23.000000\n",
       "25%       30.000000\n",
       "50%       39.000000\n",
       "75%       47.000000\n",
       "max       54.000000\n",
       "Name: age, dtype: float64"
      ]
     },
     "execution_count": 19,
     "metadata": {},
     "output_type": "execute_result"
    }
   ],
   "source": [
    "es1.age.describe() # Age is between 23-54 GenZ11-26, Millennials27-42, GenX43-58"
   ]
  },
  {
   "cell_type": "code",
   "execution_count": 20,
   "id": "d6afc361-b44d-483a-acd8-73dc367effc4",
   "metadata": {},
   "outputs": [
    {
     "data": {
      "text/plain": [
       "<AxesSubplot: xlabel='Dept,satisfied'>"
      ]
     },
     "execution_count": 20,
     "metadata": {},
     "output_type": "execute_result"
    },
    {
     "data": {
      "image/png": "[encoded data removed]",
      "text/plain": [
       "<Figure size 432x288 with 1 Axes>"
      ]
     },
     "metadata": {
      "needs_background": "light"
     },
     "output_type": "display_data"
    }
   ],
   "source": [
    "es1[['Dept', 'satisfied']].value_counts().plot(kind='bar')"
   ]
  },
  {
   "cell_type": "code",
   "execution_count": 21,
   "id": "4c1e84f3-7df2-45b0-8e8c-f0654e0d7891",
   "metadata": {},
   "outputs": [
    {
     "data": {
      "text/plain": [
       "count            500\n",
       "unique             5\n",
       "top       Purchasing\n",
       "freq             109\n",
       "Name: Dept, dtype: object"
      ]
     },
     "execution_count": 21,
     "metadata": {},
     "output_type": "execute_result"
    }
   ],
   "source": [
    "es1.Dept.describe()"
   ]
  },
  {
   "cell_type": "code",
   "execution_count": 22,
   "id": "33a45fcb-ee57-4ea0-a407-30b5a83fb26d",
   "metadata": {},
   "outputs": [
    {
     "data": {
      "text/plain": [
       "<AxesSubplot: xlabel='location,satisfied'>"
      ]
     },
     "execution_count": 22,
     "metadata": {},
     "output_type": "execute_result"
    },
    {
     "data": {
      "image/png": "[encoded data removed]",
      "text/plain": [
       "<Figure size 432x288 with 1 Axes>"
      ]
     },
     "metadata": {
      "needs_background": "light"
     },
     "output_type": "display_data"
    }
   ],
   "source": [
    "es1[['location', 'satisfied']].value_counts().plot(kind='bar')"
   ]
  },
  {
   "cell_type": "code",
   "execution_count": 23,
   "id": "22a1d59b-dd84-4f8c-abed-7543da62a756",
   "metadata": {},
   "outputs": [
    {
     "data": {
      "text/plain": [
       "count      500\n",
       "unique       2\n",
       "top       City\n",
       "freq       259\n",
       "Name: location, dtype: object"
      ]
     },
     "execution_count": 23,
     "metadata": {},
     "output_type": "execute_result"
    }
   ],
   "source": [
    "es1.location.describe()"
   ]
  },
  {
   "cell_type": "code",
   "execution_count": 24,
   "id": "6baa200b-f292-4054-86da-0ea30dd7ee21",
   "metadata": {},
   "outputs": [
    {
     "data": {
      "text/plain": [
       "<AxesSubplot: xlabel='education,satisfied'>"
      ]
     },
     "execution_count": 24,
     "metadata": {},
     "output_type": "execute_result"
    },
    {
     "data": {
      "image/png": "[encoded data removed]",
      "text/plain": [
       "<Figure size 432x288 with 1 Axes>"
      ]
     },
     "metadata": {
      "needs_background": "light"
     },
     "output_type": "display_data"
    }
   ],
   "source": [
    "es1[['education', 'satisfied']].value_counts().plot(kind='bar')"
   ]
  },
  {
   "cell_type": "code",
   "execution_count": 25,
   "id": "b904945c-2969-4e15-8544-dc41c782d5dd",
   "metadata": {},
   "outputs": [
    {
     "data": {
      "text/plain": [
       "count     500\n",
       "unique      2\n",
       "top        PG\n",
       "freq      254\n",
       "Name: education, dtype: object"
      ]
     },
     "execution_count": 25,
     "metadata": {},
     "output_type": "execute_result"
    }
   ],
   "source": [
    "es1.education.describe()"
   ]
  },
  {
   "cell_type": "code",
   "execution_count": 26,
   "id": "d8c79a1b-689c-48b5-8c55-0d29cbf7db7a",
   "metadata": {},
   "outputs": [
    {
     "data": {
      "text/plain": [
       "<AxesSubplot: xlabel='recruitment_type,satisfied'>"
      ]
     },
     "execution_count": 26,
     "metadata": {},
     "output_type": "execute_result"
    },
    {
     "data": {
      "image/png": "[encoded data removed]",
      "text/plain": [
       "<Figure size 432x288 with 1 Axes>"
      ]
     },
     "metadata": {
      "needs_background": "light"
     },
     "output_type": "display_data"
    }
   ],
   "source": [
    "es1[['recruitment_type', 'satisfied']].value_counts().plot(kind='bar')"
   ]
  },
  {
   "cell_type": "code",
   "execution_count": 27,
   "id": "145c0cce-ab28-41bd-b34e-78b45f796a16",
   "metadata": {},
   "outputs": [
    {
     "data": {
      "text/plain": [
       "count           500\n",
       "unique            4\n",
       "top       On-Campus\n",
       "freq            133\n",
       "Name: recruitment_type, dtype: object"
      ]
     },
     "execution_count": 27,
     "metadata": {},
     "output_type": "execute_result"
    }
   ],
   "source": [
    "es1.recruitment_type.describe()"
   ]
  },
  {
   "cell_type": "code",
   "execution_count": 28,
   "id": "3f53d813-8b6f-4c31-9cd4-81c2ab6c9eee",
   "metadata": {},
   "outputs": [
    {
     "data": {
      "text/plain": [
       "<AxesSubplot: xlabel='rating,satisfied'>"
      ]
     },
     "execution_count": 28,
     "metadata": {},
     "output_type": "execute_result"
    },
    {
     "data": {
      "image/png": "[encoded data removed]",
      "text/plain": [
       "<Figure size 432x288 with 1 Axes>"
      ]
     },
     "metadata": {
      "needs_background": "light"
     },
     "output_type": "display_data"
    }
   ],
   "source": [
    "es1[['rating', 'satisfied']].value_counts().plot(kind='bar')"
   ]
  },
  {
   "cell_type": "code",
   "execution_count": 29,
   "id": "b6fbe3e7-9c44-402e-92cc-dc22ea7cdc33",
   "metadata": {},
   "outputs": [
    {
     "data": {
      "text/plain": [
       "count    500.000000\n",
       "mean       3.072000\n",
       "std        1.425089\n",
       "min        1.000000\n",
       "25%        2.000000\n",
       "50%        3.000000\n",
       "75%        4.000000\n",
       "max        5.000000\n",
       "Name: rating, dtype: float64"
      ]
     },
     "execution_count": 29,
     "metadata": {},
     "output_type": "execute_result"
    }
   ],
   "source": [
    "es1.rating.describe()"
   ]
  },
  {
   "cell_type": "code",
   "execution_count": 30,
   "id": "d58a1122-2834-4cb4-859a-046270a93679",
   "metadata": {},
   "outputs": [
    {
     "data": {
      "text/plain": [
       "<AxesSubplot: xlabel='job_level,satisfied'>"
      ]
     },
     "execution_count": 30,
     "metadata": {},
     "output_type": "execute_result"
    },
    {
     "data": {
      "image/png": "[encoded data removed]",
      "text/plain": [
       "<Figure size 432x288 with 1 Axes>"
      ]
     },
     "metadata": {
      "needs_background": "light"
     },
     "output_type": "display_data"
    }
   ],
   "source": [
    "es1[['job_level', 'satisfied']].value_counts().plot(kind='bar')"
   ]
  },
  {
   "cell_type": "code",
   "execution_count": 31,
   "id": "216dbc34-d8d8-495f-b8a3-036cfb14f9f8",
   "metadata": {},
   "outputs": [
    {
     "data": {
      "text/plain": [
       "count    500.000000\n",
       "mean       3.032000\n",
       "std        1.423738\n",
       "min        1.000000\n",
       "25%        2.000000\n",
       "50%        3.000000\n",
       "75%        4.000000\n",
       "max        5.000000\n",
       "Name: job_level, dtype: float64"
      ]
     },
     "execution_count": 31,
     "metadata": {},
     "output_type": "execute_result"
    }
   ],
   "source": [
    "es1.job_level.describe()"
   ]
  },
  {
   "cell_type": "code",
   "execution_count": 32,
   "id": "0a78ac43-3771-4490-9077-b4eef1ea480a",
   "metadata": {},
   "outputs": [
    {
     "data": {
      "text/plain": [
       "<AxesSubplot: xlabel='salary,satisfied'>"
      ]
     },
     "execution_count": 32,
     "metadata": {},
     "output_type": "execute_result"
    },
    {
     "data": {
      "image/png": "[encoded data removed]",
      "text/plain": [
       "<Figure size 432x288 with 1 Axes>"
      ]
     },
     "metadata": {
      "needs_background": "light"
     },
     "output_type": "display_data"
    }
   ],
   "source": [
    "es1[['salary', 'satisfied']].value_counts().plot(kind='bar')"
   ]
  },
  {
   "cell_type": "code",
   "execution_count": 33,
   "id": "59aad3fc-857a-4b0a-a720-e32607841478",
   "metadata": {},
   "outputs": [
    {
     "data": {
      "text/plain": [
       "count      500.000000\n",
       "mean     50416.056000\n",
       "std      23671.392661\n",
       "min      24076.000000\n",
       "25%      29805.000000\n",
       "50%      42419.000000\n",
       "75%      65715.000000\n",
       "max      86750.000000\n",
       "Name: salary, dtype: float64"
      ]
     },
     "execution_count": 33,
     "metadata": {},
     "output_type": "execute_result"
    }
   ],
   "source": [
    "es1.salary.describe()"
   ]
  },
  {
   "cell_type": "code",
   "execution_count": 34,
   "id": "5666638d-ba77-4f4b-9c00-9e2621c06b86",
   "metadata": {},
   "outputs": [],
   "source": [
    "es2_filtered = es1[es1['satisfied'] > 0]"
   ]
  },
  {
   "cell_type": "code",
   "execution_count": 35,
   "id": "3b81cb59-69a2-4ed0-8d76-60e65e7cced1",
   "metadata": {},
   "outputs": [
    {
     "data": {
      "text/html": [
       "<div>\n",
       "<style scoped>\n",
       "    .dataframe tbody tr th:only-of-type {\n",
       "        vertical-align: middle;\n",
       "    }\n",
       "\n",
       "    .dataframe tbody tr th {\n",
       "        vertical-align: top;\n",
       "    }\n",
       "\n",
       "    .dataframe thead th {\n",
       "        text-align: right;\n",
       "    }\n",
       "</style>\n",
       "<table border=\"1\" class=\"dataframe\">\n",
       "  <thead>\n",
       "    <tr style=\"text-align: right;\">\n",
       "      <th></th>\n",
       "      <th>age</th>\n",
       "      <th>Dept</th>\n",
       "      <th>location</th>\n",
       "      <th>education</th>\n",
       "      <th>recruitment_type</th>\n",
       "      <th>job_level</th>\n",
       "      <th>rating</th>\n",
       "      <th>onsite</th>\n",
       "      <th>salary</th>\n",
       "      <th>satisfied</th>\n",
       "      <th>GenType</th>\n",
       "    </tr>\n",
       "  </thead>\n",
       "  <tbody>\n",
       "    <tr>\n",
       "      <th>0</th>\n",
       "      <td>28</td>\n",
       "      <td>HR</td>\n",
       "      <td>Suburb</td>\n",
       "      <td>PG</td>\n",
       "      <td>Referral</td>\n",
       "      <td>5</td>\n",
       "      <td>2</td>\n",
       "      <td>0</td>\n",
       "      <td>86750</td>\n",
       "      <td>1</td>\n",
       "      <td>Millennials 27-42</td>\n",
       "    </tr>\n",
       "    <tr>\n",
       "      <th>3</th>\n",
       "      <td>44</td>\n",
       "      <td>Sales</td>\n",
       "      <td>City</td>\n",
       "      <td>PG</td>\n",
       "      <td>On-Campus</td>\n",
       "      <td>2</td>\n",
       "      <td>3</td>\n",
       "      <td>1</td>\n",
       "      <td>29805</td>\n",
       "      <td>1</td>\n",
       "      <td>GenX 42-58</td>\n",
       "    </tr>\n",
       "    <tr>\n",
       "      <th>4</th>\n",
       "      <td>33</td>\n",
       "      <td>HR</td>\n",
       "      <td>City</td>\n",
       "      <td>UG</td>\n",
       "      <td>Recruitment Agency</td>\n",
       "      <td>2</td>\n",
       "      <td>1</td>\n",
       "      <td>0</td>\n",
       "      <td>29805</td>\n",
       "      <td>1</td>\n",
       "      <td>Millennials 27-42</td>\n",
       "    </tr>\n",
       "    <tr>\n",
       "      <th>5</th>\n",
       "      <td>40</td>\n",
       "      <td>Purchasing</td>\n",
       "      <td>Suburb</td>\n",
       "      <td>UG</td>\n",
       "      <td>Referral</td>\n",
       "      <td>3</td>\n",
       "      <td>3</td>\n",
       "      <td>0</td>\n",
       "      <td>42419</td>\n",
       "      <td>1</td>\n",
       "      <td>Millennials 27-42</td>\n",
       "    </tr>\n",
       "    <tr>\n",
       "      <th>8</th>\n",
       "      <td>35</td>\n",
       "      <td>HR</td>\n",
       "      <td>City</td>\n",
       "      <td>PG</td>\n",
       "      <td>Referral</td>\n",
       "      <td>3</td>\n",
       "      <td>4</td>\n",
       "      <td>0</td>\n",
       "      <td>42419</td>\n",
       "      <td>1</td>\n",
       "      <td>Millennials 27-42</td>\n",
       "    </tr>\n",
       "  </tbody>\n",
       "</table>\n",
       "</div>"
      ],
      "text/plain": [
       "   age        Dept location education    recruitment_type  job_level  rating  \\\n",
       "0   28          HR   Suburb        PG            Referral          5       2   \n",
       "3   44       Sales     City        PG           On-Campus          2       3   \n",
       "4   33          HR     City        UG  Recruitment Agency          2       1   \n",
       "5   40  Purchasing   Suburb        UG            Referral          3       3   \n",
       "8   35          HR     City        PG            Referral          3       4   \n",
       "\n",
       "   onsite  salary  satisfied            GenType  \n",
       "0       0   86750          1  Millennials 27-42  \n",
       "3       1   29805          1         GenX 42-58  \n",
       "4       0   29805          1  Millennials 27-42  \n",
       "5       0   42419          1  Millennials 27-42  \n",
       "8       0   42419          1  Millennials 27-42  "
      ]
     },
     "execution_count": 35,
     "metadata": {},
     "output_type": "execute_result"
    }
   ],
   "source": [
    "es2_filtered.head()"
   ]
  },
  {
   "cell_type": "markdown",
   "id": "20476312-50b9-4e0c-bd87-6723a821eea9",
   "metadata": {},
   "source": [
    "## 1st Analysis- Independent Chi-Square / is used when you want to determine whether two categorical variables influence each other."
   ]
  },
  {
   "cell_type": "code",
   "execution_count": 36,
   "id": "f3803d23-c177-4129-8a2c-25a2d4020f09",
   "metadata": {},
   "outputs": [],
   "source": [
    "import pandas as pd\n",
    "from scipy import stats"
   ]
  },
  {
   "cell_type": "code",
   "execution_count": 37,
   "id": "d649b161-9917-4045-bec3-798171c92b18",
   "metadata": {},
   "outputs": [
    {
     "data": {
      "text/html": [
       "<div>\n",
       "<style scoped>\n",
       "    .dataframe tbody tr th:only-of-type {\n",
       "        vertical-align: middle;\n",
       "    }\n",
       "\n",
       "    .dataframe tbody tr th {\n",
       "        vertical-align: top;\n",
       "    }\n",
       "\n",
       "    .dataframe thead th {\n",
       "        text-align: right;\n",
       "    }\n",
       "</style>\n",
       "<table border=\"1\" class=\"dataframe\">\n",
       "  <thead>\n",
       "    <tr style=\"text-align: right;\">\n",
       "      <th></th>\n",
       "      <th>age</th>\n",
       "      <th>Dept</th>\n",
       "      <th>location</th>\n",
       "      <th>education</th>\n",
       "      <th>recruitment_type</th>\n",
       "      <th>job_level</th>\n",
       "      <th>rating</th>\n",
       "      <th>onsite</th>\n",
       "      <th>salary</th>\n",
       "      <th>satisfied</th>\n",
       "      <th>GenType</th>\n",
       "    </tr>\n",
       "  </thead>\n",
       "  <tbody>\n",
       "    <tr>\n",
       "      <th>0</th>\n",
       "      <td>28</td>\n",
       "      <td>HR</td>\n",
       "      <td>Suburb</td>\n",
       "      <td>PG</td>\n",
       "      <td>Referral</td>\n",
       "      <td>5</td>\n",
       "      <td>2</td>\n",
       "      <td>0</td>\n",
       "      <td>86750</td>\n",
       "      <td>1</td>\n",
       "      <td>Millennials 27-42</td>\n",
       "    </tr>\n",
       "    <tr>\n",
       "      <th>1</th>\n",
       "      <td>50</td>\n",
       "      <td>Technology</td>\n",
       "      <td>Suburb</td>\n",
       "      <td>PG</td>\n",
       "      <td>Walk-in</td>\n",
       "      <td>3</td>\n",
       "      <td>5</td>\n",
       "      <td>1</td>\n",
       "      <td>42419</td>\n",
       "      <td>0</td>\n",
       "      <td>GenX 42-58</td>\n",
       "    </tr>\n",
       "    <tr>\n",
       "      <th>2</th>\n",
       "      <td>43</td>\n",
       "      <td>Technology</td>\n",
       "      <td>Suburb</td>\n",
       "      <td>UG</td>\n",
       "      <td>Referral</td>\n",
       "      <td>4</td>\n",
       "      <td>1</td>\n",
       "      <td>0</td>\n",
       "      <td>65715</td>\n",
       "      <td>0</td>\n",
       "      <td>GenX 42-58</td>\n",
       "    </tr>\n",
       "    <tr>\n",
       "      <th>3</th>\n",
       "      <td>44</td>\n",
       "      <td>Sales</td>\n",
       "      <td>City</td>\n",
       "      <td>PG</td>\n",
       "      <td>On-Campus</td>\n",
       "      <td>2</td>\n",
       "      <td>3</td>\n",
       "      <td>1</td>\n",
       "      <td>29805</td>\n",
       "      <td>1</td>\n",
       "      <td>GenX 42-58</td>\n",
       "    </tr>\n",
       "    <tr>\n",
       "      <th>4</th>\n",
       "      <td>33</td>\n",
       "      <td>HR</td>\n",
       "      <td>City</td>\n",
       "      <td>UG</td>\n",
       "      <td>Recruitment Agency</td>\n",
       "      <td>2</td>\n",
       "      <td>1</td>\n",
       "      <td>0</td>\n",
       "      <td>29805</td>\n",
       "      <td>1</td>\n",
       "      <td>Millennials 27-42</td>\n",
       "    </tr>\n",
       "  </tbody>\n",
       "</table>\n",
       "</div>"
      ],
      "text/plain": [
       "   age        Dept location education    recruitment_type  job_level  rating  \\\n",
       "0   28          HR   Suburb        PG            Referral          5       2   \n",
       "1   50  Technology   Suburb        PG             Walk-in          3       5   \n",
       "2   43  Technology   Suburb        UG            Referral          4       1   \n",
       "3   44       Sales     City        PG           On-Campus          2       3   \n",
       "4   33          HR     City        UG  Recruitment Agency          2       1   \n",
       "\n",
       "   onsite  salary  satisfied            GenType  \n",
       "0       0   86750          1  Millennials 27-42  \n",
       "1       1   42419          0         GenX 42-58  \n",
       "2       0   65715          0         GenX 42-58  \n",
       "3       1   29805          1         GenX 42-58  \n",
       "4       0   29805          1  Millennials 27-42  "
      ]
     },
     "execution_count": 37,
     "metadata": {},
     "output_type": "execute_result"
    }
   ],
   "source": [
    "es1.head()"
   ]
  },
  {
   "cell_type": "markdown",
   "id": "e1c800b4-9106-4b4e-bdd2-642559ffd202",
   "metadata": {},
   "source": [
    "#### 1st Create a contingency table-which shows how each level of each variable crosses with the other variable levels \n",
    "#### crateDataFrameName= pd.crosstab(datarame['column1'], dataFrame['column2'])"
   ]
  },
  {
   "cell_type": "code",
   "execution_count": 38,
   "id": "274449eb-e4d6-4d76-aae5-8e350266ffba",
   "metadata": {},
   "outputs": [],
   "source": [
    "dept_crosstab = pd.crosstab(es1['Dept'], es1['satisfied'])"
   ]
  },
  {
   "cell_type": "code",
   "execution_count": 39,
   "id": "5ecb80a3-2692-48fe-a71c-7e8ace524b87",
   "metadata": {},
   "outputs": [
    {
     "data": {
      "text/html": [
       "<div>\n",
       "<style scoped>\n",
       "    .dataframe tbody tr th:only-of-type {\n",
       "        vertical-align: middle;\n",
       "    }\n",
       "\n",
       "    .dataframe tbody tr th {\n",
       "        vertical-align: top;\n",
       "    }\n",
       "\n",
       "    .dataframe thead th {\n",
       "        text-align: right;\n",
       "    }\n",
       "</style>\n",
       "<table border=\"1\" class=\"dataframe\">\n",
       "  <thead>\n",
       "    <tr style=\"text-align: right;\">\n",
       "      <th>satisfied</th>\n",
       "      <th>0</th>\n",
       "      <th>1</th>\n",
       "    </tr>\n",
       "    <tr>\n",
       "      <th>Dept</th>\n",
       "      <th></th>\n",
       "      <th></th>\n",
       "    </tr>\n",
       "  </thead>\n",
       "  <tbody>\n",
       "    <tr>\n",
       "      <th>HR</th>\n",
       "      <td>53</td>\n",
       "      <td>53</td>\n",
       "    </tr>\n",
       "    <tr>\n",
       "      <th>Marketing</th>\n",
       "      <td>51</td>\n",
       "      <td>44</td>\n",
       "    </tr>\n",
       "    <tr>\n",
       "      <th>Purchasing</th>\n",
       "      <td>47</td>\n",
       "      <td>62</td>\n",
       "    </tr>\n",
       "    <tr>\n",
       "      <th>Sales</th>\n",
       "      <td>41</td>\n",
       "      <td>51</td>\n",
       "    </tr>\n",
       "    <tr>\n",
       "      <th>Technology</th>\n",
       "      <td>45</td>\n",
       "      <td>53</td>\n",
       "    </tr>\n",
       "  </tbody>\n",
       "</table>\n",
       "</div>"
      ],
      "text/plain": [
       "satisfied    0   1\n",
       "Dept              \n",
       "HR          53  53\n",
       "Marketing   51  44\n",
       "Purchasing  47  62\n",
       "Sales       41  51\n",
       "Technology  45  53"
      ]
     },
     "execution_count": 39,
     "metadata": {},
     "output_type": "execute_result"
    }
   ],
   "source": [
    "dept_crosstab"
   ]
  },
  {
   "cell_type": "markdown",
   "id": "2a067b9c-575f-46bc-aa23-25769b8fd023",
   "metadata": {},
   "source": [
    "#### Running the Independent Chi-Square\n",
    "#### Once you have the contingency table, then you can run the function stats.chi2_contingency on the contingency table you have created:\n",
    "#### stats.chi2_contingency(dataFrame you crated)"
   ]
  },
  {
   "cell_type": "code",
   "execution_count": 40,
   "id": "e87b7aa4-5a52-4ef2-a3f0-aaeee6004221",
   "metadata": {},
   "outputs": [
    {
     "data": {
      "text/plain": [
       "Chi2ContingencyResult(statistic=2.976074709413628, pvalue=0.5618371914466562, dof=4, expected_freq=array([[50.244, 55.756],\n",
       "       [45.03 , 49.97 ],\n",
       "       [51.666, 57.334],\n",
       "       [43.608, 48.392],\n",
       "       [46.452, 51.548]]))"
      ]
     },
     "execution_count": 40,
     "metadata": {},
     "output_type": "execute_result"
    }
   ],
   "source": [
    "stats.chi2_contingency(dept_crosstab)"
   ]
  },
  {
   "cell_type": "markdown",
   "id": "4edeee48-0e6b-4b0c-bab9-3b5f2f5c2aac",
   "metadata": {},
   "source": [
    "#### The department you are in does not significantly affect if you are satisfied. This is because the p value is > .05.\n",
    "#### there is no relationship between the 2 variables since they are all greater than 5"
   ]
  },
  {
   "cell_type": "code",
   "execution_count": 41,
   "id": "7e900ebf-b602-4f26-bdff-ded35c59bb84",
   "metadata": {},
   "outputs": [
    {
     "data": {
      "text/html": [
       "<div>\n",
       "<style scoped>\n",
       "    .dataframe tbody tr th:only-of-type {\n",
       "        vertical-align: middle;\n",
       "    }\n",
       "\n",
       "    .dataframe tbody tr th {\n",
       "        vertical-align: top;\n",
       "    }\n",
       "\n",
       "    .dataframe thead th {\n",
       "        text-align: right;\n",
       "    }\n",
       "</style>\n",
       "<table border=\"1\" class=\"dataframe\">\n",
       "  <thead>\n",
       "    <tr style=\"text-align: right;\">\n",
       "      <th>satisfied</th>\n",
       "      <th>0</th>\n",
       "      <th>1</th>\n",
       "    </tr>\n",
       "    <tr>\n",
       "      <th>location</th>\n",
       "      <th></th>\n",
       "      <th></th>\n",
       "    </tr>\n",
       "  </thead>\n",
       "  <tbody>\n",
       "    <tr>\n",
       "      <th>City</th>\n",
       "      <td>119</td>\n",
       "      <td>140</td>\n",
       "    </tr>\n",
       "    <tr>\n",
       "      <th>Suburb</th>\n",
       "      <td>118</td>\n",
       "      <td>123</td>\n",
       "    </tr>\n",
       "  </tbody>\n",
       "</table>\n",
       "</div>"
      ],
      "text/plain": [
       "satisfied    0    1\n",
       "location           \n",
       "City       119  140\n",
       "Suburb     118  123"
      ]
     },
     "execution_count": 41,
     "metadata": {},
     "output_type": "execute_result"
    }
   ],
   "source": [
    "location_crosstab = pd.crosstab(es1['location'], es1['satisfied'])\n",
    "location_crosstab"
   ]
  },
  {
   "cell_type": "code",
   "execution_count": 42,
   "id": "89c05b1b-c8db-4969-9572-9f87b47ac51e",
   "metadata": {},
   "outputs": [
    {
     "data": {
      "text/plain": [
       "Chi2ContingencyResult(statistic=0.34270581428436564, pvalue=0.5582715231147277, dof=1, expected_freq=array([[122.766, 136.234],\n",
       "       [114.234, 126.766]]))"
      ]
     },
     "execution_count": 42,
     "metadata": {},
     "output_type": "execute_result"
    }
   ],
   "source": [
    "stats.chi2_contingency(location_crosstab)"
   ]
  },
  {
   "cell_type": "markdown",
   "id": "d605560f-706f-430e-902a-0488169301a1",
   "metadata": {},
   "source": [
    "#### The location you are in does not significantly affect if you are satisfied. This is because the p value is > .05.\n",
    "#### there is no relationship between the 2 variables since they are all greater than 5"
   ]
  },
  {
   "cell_type": "code",
   "execution_count": 43,
   "id": "5b258173-16c2-4560-8bff-574532b2984e",
   "metadata": {},
   "outputs": [
    {
     "data": {
      "text/html": [
       "<div>\n",
       "<style scoped>\n",
       "    .dataframe tbody tr th:only-of-type {\n",
       "        vertical-align: middle;\n",
       "    }\n",
       "\n",
       "    .dataframe tbody tr th {\n",
       "        vertical-align: top;\n",
       "    }\n",
       "\n",
       "    .dataframe thead th {\n",
       "        text-align: right;\n",
       "    }\n",
       "</style>\n",
       "<table border=\"1\" class=\"dataframe\">\n",
       "  <thead>\n",
       "    <tr style=\"text-align: right;\">\n",
       "      <th>satisfied</th>\n",
       "      <th>0</th>\n",
       "      <th>1</th>\n",
       "    </tr>\n",
       "    <tr>\n",
       "      <th>education</th>\n",
       "      <th></th>\n",
       "      <th></th>\n",
       "    </tr>\n",
       "  </thead>\n",
       "  <tbody>\n",
       "    <tr>\n",
       "      <th>PG</th>\n",
       "      <td>117</td>\n",
       "      <td>137</td>\n",
       "    </tr>\n",
       "    <tr>\n",
       "      <th>UG</th>\n",
       "      <td>120</td>\n",
       "      <td>126</td>\n",
       "    </tr>\n",
       "  </tbody>\n",
       "</table>\n",
       "</div>"
      ],
      "text/plain": [
       "satisfied    0    1\n",
       "education          \n",
       "PG         117  137\n",
       "UG         120  126"
      ]
     },
     "execution_count": 43,
     "metadata": {},
     "output_type": "execute_result"
    }
   ],
   "source": [
    "education_crosstab = pd.crosstab(es1['education'], es1['satisfied'])\n",
    "education_crosstab"
   ]
  },
  {
   "cell_type": "code",
   "execution_count": 44,
   "id": "b8e25bbf-e03d-41a3-b61c-7f14070afafa",
   "metadata": {},
   "outputs": [
    {
     "data": {
      "text/plain": [
       "Chi2ContingencyResult(statistic=0.2691746827317092, pvalue=0.603885940051416, dof=1, expected_freq=array([[120.396, 133.604],\n",
       "       [116.604, 129.396]]))"
      ]
     },
     "execution_count": 44,
     "metadata": {},
     "output_type": "execute_result"
    }
   ],
   "source": [
    "stats.chi2_contingency(education_crosstab)"
   ]
  },
  {
   "cell_type": "markdown",
   "id": "51d4c599-0fdc-4a56-9d7f-b9e68e74e1a8",
   "metadata": {},
   "source": [
    "#### The education you are in does not significantly affect if you are satisfied. This is because the p value is > .05.\n",
    "#### there is no relationship between the 2 variables since they are all greater than 5"
   ]
  },
  {
   "cell_type": "code",
   "execution_count": 45,
   "id": "056d10f9-11df-4a11-8b2f-630871d5942e",
   "metadata": {},
   "outputs": [
    {
     "data": {
      "text/html": [
       "<div>\n",
       "<style scoped>\n",
       "    .dataframe tbody tr th:only-of-type {\n",
       "        vertical-align: middle;\n",
       "    }\n",
       "\n",
       "    .dataframe tbody tr th {\n",
       "        vertical-align: top;\n",
       "    }\n",
       "\n",
       "    .dataframe thead th {\n",
       "        text-align: right;\n",
       "    }\n",
       "</style>\n",
       "<table border=\"1\" class=\"dataframe\">\n",
       "  <thead>\n",
       "    <tr style=\"text-align: right;\">\n",
       "      <th>satisfied</th>\n",
       "      <th>0</th>\n",
       "      <th>1</th>\n",
       "    </tr>\n",
       "    <tr>\n",
       "      <th>recruitment_type</th>\n",
       "      <th></th>\n",
       "      <th></th>\n",
       "    </tr>\n",
       "  </thead>\n",
       "  <tbody>\n",
       "    <tr>\n",
       "      <th>On-Campus</th>\n",
       "      <td>61</td>\n",
       "      <td>72</td>\n",
       "    </tr>\n",
       "    <tr>\n",
       "      <th>Recruitment Agency</th>\n",
       "      <td>49</td>\n",
       "      <td>59</td>\n",
       "    </tr>\n",
       "    <tr>\n",
       "      <th>Referral</th>\n",
       "      <td>63</td>\n",
       "      <td>68</td>\n",
       "    </tr>\n",
       "    <tr>\n",
       "      <th>Walk-in</th>\n",
       "      <td>64</td>\n",
       "      <td>64</td>\n",
       "    </tr>\n",
       "  </tbody>\n",
       "</table>\n",
       "</div>"
      ],
      "text/plain": [
       "satisfied            0   1\n",
       "recruitment_type          \n",
       "On-Campus           61  72\n",
       "Recruitment Agency  49  59\n",
       "Referral            63  68\n",
       "Walk-in             64  64"
      ]
     },
     "execution_count": 45,
     "metadata": {},
     "output_type": "execute_result"
    }
   ],
   "source": [
    "recruitment_type_crosstab = pd.crosstab(es1['recruitment_type'], es1['satisfied'])\n",
    "recruitment_type_crosstab"
   ]
  },
  {
   "cell_type": "code",
   "execution_count": 46,
   "id": "18f97313-45c9-475e-aedc-02a162e83069",
   "metadata": {},
   "outputs": [
    {
     "data": {
      "text/plain": [
       "Chi2ContingencyResult(statistic=0.6763689583359815, pvalue=0.8787476252833338, dof=3, expected_freq=array([[63.042, 69.958],\n",
       "       [51.192, 56.808],\n",
       "       [62.094, 68.906],\n",
       "       [60.672, 67.328]]))"
      ]
     },
     "execution_count": 46,
     "metadata": {},
     "output_type": "execute_result"
    }
   ],
   "source": [
    "stats.chi2_contingency(recruitment_type_crosstab)"
   ]
  },
  {
   "cell_type": "markdown",
   "id": "27ccfa0c-d07d-4592-b953-bcab50e13321",
   "metadata": {},
   "source": [
    "#### The recruitment type you are in does not significantly affect if you are satisfied. This is because the p value is > .05.\n",
    "#### there is no relationship between the 2 variables since they are all greater than 5"
   ]
  },
  {
   "cell_type": "code",
   "execution_count": 47,
   "id": "e321822e-f2a7-462b-a5c5-9814dad4528e",
   "metadata": {},
   "outputs": [
    {
     "data": {
      "text/html": [
       "<div>\n",
       "<style scoped>\n",
       "    .dataframe tbody tr th:only-of-type {\n",
       "        vertical-align: middle;\n",
       "    }\n",
       "\n",
       "    .dataframe tbody tr th {\n",
       "        vertical-align: top;\n",
       "    }\n",
       "\n",
       "    .dataframe thead th {\n",
       "        text-align: right;\n",
       "    }\n",
       "</style>\n",
       "<table border=\"1\" class=\"dataframe\">\n",
       "  <thead>\n",
       "    <tr style=\"text-align: right;\">\n",
       "      <th>satisfied</th>\n",
       "      <th>0</th>\n",
       "      <th>1</th>\n",
       "    </tr>\n",
       "    <tr>\n",
       "      <th>job_level</th>\n",
       "      <th></th>\n",
       "      <th></th>\n",
       "    </tr>\n",
       "  </thead>\n",
       "  <tbody>\n",
       "    <tr>\n",
       "      <th>1</th>\n",
       "      <td>41</td>\n",
       "      <td>54</td>\n",
       "    </tr>\n",
       "    <tr>\n",
       "      <th>2</th>\n",
       "      <td>57</td>\n",
       "      <td>53</td>\n",
       "    </tr>\n",
       "    <tr>\n",
       "      <th>3</th>\n",
       "      <td>41</td>\n",
       "      <td>41</td>\n",
       "    </tr>\n",
       "    <tr>\n",
       "      <th>4</th>\n",
       "      <td>53</td>\n",
       "      <td>57</td>\n",
       "    </tr>\n",
       "    <tr>\n",
       "      <th>5</th>\n",
       "      <td>45</td>\n",
       "      <td>58</td>\n",
       "    </tr>\n",
       "  </tbody>\n",
       "</table>\n",
       "</div>"
      ],
      "text/plain": [
       "satisfied   0   1\n",
       "job_level        \n",
       "1          41  54\n",
       "2          57  53\n",
       "3          41  41\n",
       "4          53  57\n",
       "5          45  58"
      ]
     },
     "execution_count": 47,
     "metadata": {},
     "output_type": "execute_result"
    }
   ],
   "source": [
    "job_level_crosstab = pd.crosstab(es1['job_level'], es1['satisfied'])\n",
    "job_level_crosstab"
   ]
  },
  {
   "cell_type": "code",
   "execution_count": 48,
   "id": "c5b74627-cea6-402b-b3de-b921311a0a48",
   "metadata": {},
   "outputs": [
    {
     "data": {
      "text/plain": [
       "Chi2ContingencyResult(statistic=2.3650281945974623, pvalue=0.6689562418128875, dof=4, expected_freq=array([[45.03 , 49.97 ],\n",
       "       [52.14 , 57.86 ],\n",
       "       [38.868, 43.132],\n",
       "       [52.14 , 57.86 ],\n",
       "       [48.822, 54.178]]))"
      ]
     },
     "execution_count": 48,
     "metadata": {},
     "output_type": "execute_result"
    }
   ],
   "source": [
    "stats.chi2_contingency(job_level_crosstab)"
   ]
  },
  {
   "cell_type": "markdown",
   "id": "e4dbc520-f9bd-461b-9cdb-c08cd18ae564",
   "metadata": {},
   "source": [
    "#### The job level you are in does not significantly affect if you are satisfied. This is because the p value is > .05.\n",
    "#### there is no relationship between the 2 variables since they are all greater than 5"
   ]
  },
  {
   "cell_type": "code",
   "execution_count": 49,
   "id": "f7a25aa9-18ac-4950-afe1-bfb6fcd61477",
   "metadata": {},
   "outputs": [
    {
     "data": {
      "text/html": [
       "<div>\n",
       "<style scoped>\n",
       "    .dataframe tbody tr th:only-of-type {\n",
       "        vertical-align: middle;\n",
       "    }\n",
       "\n",
       "    .dataframe tbody tr th {\n",
       "        vertical-align: top;\n",
       "    }\n",
       "\n",
       "    .dataframe thead th {\n",
       "        text-align: right;\n",
       "    }\n",
       "</style>\n",
       "<table border=\"1\" class=\"dataframe\">\n",
       "  <thead>\n",
       "    <tr style=\"text-align: right;\">\n",
       "      <th>satisfied</th>\n",
       "      <th>0</th>\n",
       "      <th>1</th>\n",
       "    </tr>\n",
       "    <tr>\n",
       "      <th>rating</th>\n",
       "      <th></th>\n",
       "      <th></th>\n",
       "    </tr>\n",
       "  </thead>\n",
       "  <tbody>\n",
       "    <tr>\n",
       "      <th>1</th>\n",
       "      <td>51</td>\n",
       "      <td>44</td>\n",
       "    </tr>\n",
       "    <tr>\n",
       "      <th>2</th>\n",
       "      <td>48</td>\n",
       "      <td>51</td>\n",
       "    </tr>\n",
       "    <tr>\n",
       "      <th>3</th>\n",
       "      <td>46</td>\n",
       "      <td>41</td>\n",
       "    </tr>\n",
       "    <tr>\n",
       "      <th>4</th>\n",
       "      <td>50</td>\n",
       "      <td>63</td>\n",
       "    </tr>\n",
       "    <tr>\n",
       "      <th>5</th>\n",
       "      <td>42</td>\n",
       "      <td>64</td>\n",
       "    </tr>\n",
       "  </tbody>\n",
       "</table>\n",
       "</div>"
      ],
      "text/plain": [
       "satisfied   0   1\n",
       "rating           \n",
       "1          51  44\n",
       "2          48  51\n",
       "3          46  41\n",
       "4          50  63\n",
       "5          42  64"
      ]
     },
     "execution_count": 49,
     "metadata": {},
     "output_type": "execute_result"
    }
   ],
   "source": [
    "rating_crosstab = pd.crosstab(es1['rating'], es1['satisfied'])\n",
    "rating_crosstab"
   ]
  },
  {
   "cell_type": "code",
   "execution_count": 50,
   "id": "6db7ff4b-5f7a-4e2c-ac1a-2db0c91939ba",
   "metadata": {},
   "outputs": [
    {
     "data": {
      "text/plain": [
       "Chi2ContingencyResult(statistic=5.61886124432503, pvalue=0.229477363761496, dof=4, expected_freq=array([[45.03 , 49.97 ],\n",
       "       [46.926, 52.074],\n",
       "       [41.238, 45.762],\n",
       "       [53.562, 59.438],\n",
       "       [50.244, 55.756]]))"
      ]
     },
     "execution_count": 50,
     "metadata": {},
     "output_type": "execute_result"
    }
   ],
   "source": [
    "stats.chi2_contingency(rating_crosstab)"
   ]
  },
  {
   "cell_type": "markdown",
   "id": "5d85533a-6c68-4c67-b64c-0f5854245144",
   "metadata": {},
   "source": [
    "#### The rating you are in does not significantly affect if you are satisfied. This is because the p value is > .05.\n",
    "#### there is no relationship between the 2 variables since they are all greater than 5"
   ]
  },
  {
   "cell_type": "code",
   "execution_count": 51,
   "id": "deb8b64d-0f7d-47fa-b8f3-fd2d8f836de3",
   "metadata": {},
   "outputs": [
    {
     "data": {
      "text/html": [
       "<div>\n",
       "<style scoped>\n",
       "    .dataframe tbody tr th:only-of-type {\n",
       "        vertical-align: middle;\n",
       "    }\n",
       "\n",
       "    .dataframe tbody tr th {\n",
       "        vertical-align: top;\n",
       "    }\n",
       "\n",
       "    .dataframe thead th {\n",
       "        text-align: right;\n",
       "    }\n",
       "</style>\n",
       "<table border=\"1\" class=\"dataframe\">\n",
       "  <thead>\n",
       "    <tr style=\"text-align: right;\">\n",
       "      <th>satisfied</th>\n",
       "      <th>0</th>\n",
       "      <th>1</th>\n",
       "    </tr>\n",
       "    <tr>\n",
       "      <th>onsite</th>\n",
       "      <th></th>\n",
       "      <th></th>\n",
       "    </tr>\n",
       "  </thead>\n",
       "  <tbody>\n",
       "    <tr>\n",
       "      <th>0</th>\n",
       "      <td>130</td>\n",
       "      <td>137</td>\n",
       "    </tr>\n",
       "    <tr>\n",
       "      <th>1</th>\n",
       "      <td>107</td>\n",
       "      <td>126</td>\n",
       "    </tr>\n",
       "  </tbody>\n",
       "</table>\n",
       "</div>"
      ],
      "text/plain": [
       "satisfied    0    1\n",
       "onsite             \n",
       "0          130  137\n",
       "1          107  126"
      ]
     },
     "execution_count": 51,
     "metadata": {},
     "output_type": "execute_result"
    }
   ],
   "source": [
    "onsite_crosstab = pd.crosstab(es1['onsite'], es1['satisfied'])\n",
    "onsite_crosstab"
   ]
  },
  {
   "cell_type": "code",
   "execution_count": 52,
   "id": "a26ca47e-589d-417c-935d-afce3b018c05",
   "metadata": {},
   "outputs": [
    {
     "data": {
      "text/plain": [
       "Chi2ContingencyResult(statistic=5.61886124432503, pvalue=0.229477363761496, dof=4, expected_freq=array([[45.03 , 49.97 ],\n",
       "       [46.926, 52.074],\n",
       "       [41.238, 45.762],\n",
       "       [53.562, 59.438],\n",
       "       [50.244, 55.756]]))"
      ]
     },
     "execution_count": 52,
     "metadata": {},
     "output_type": "execute_result"
    }
   ],
   "source": [
    "stats.chi2_contingency(rating_crosstab)"
   ]
  },
  {
   "cell_type": "markdown",
   "id": "1fd338ea-ee68-4dd3-b0dd-00fd993cf6e8",
   "metadata": {},
   "source": [
    "#### Whether you are onsite does not significantly affect if you are satisfied. This is because the p value is > .05.\n",
    "#### there is no relationship between the 2 variables since they are all greater than 5"
   ]
  },
  {
   "cell_type": "markdown",
   "id": "cdb9e3a7-c077-452d-80f7-cdc128cad724",
   "metadata": {},
   "source": [
    "## In conclusion, with performing a Independent Chi-square analysis your department, location, education, recruitment type, job level, or whether you are onsite does not have a significant decision if you are satisfied happy with your work life."
   ]
  },
  {
   "cell_type": "code",
   "execution_count": null,
   "id": "36242565-9f6d-4713-8321-7223cafa380b",
   "metadata": {},
   "outputs": [],
   "source": []
  },
  {
   "cell_type": "markdown",
   "id": "0f664abf-1b7f-489f-b2f5-5dc88d84250a",
   "metadata": {},
   "source": [
    "## 2nd Analysis- Binary Logistic Regression"
   ]
  },
  {
   "cell_type": "code",
   "execution_count": 53,
   "id": "00f1e805-3647-42f0-983b-6d550f88628f",
   "metadata": {},
   "outputs": [],
   "source": [
    "import pandas as pd\n",
    "import statsmodels.api as sm"
   ]
  },
  {
   "cell_type": "markdown",
   "id": "52c22176-f9c2-46b4-ab80-2e22ea36ed4e",
   "metadata": {},
   "source": [
    "#### Make Each Variable a Dataframe"
   ]
  },
  {
   "cell_type": "code",
   "execution_count": 54,
   "id": "7808e951-02d8-4c06-9900-18e9a1cd79ae",
   "metadata": {},
   "outputs": [],
   "source": [
    "esX = es1['age']\n",
    "esY = es1['satisfied']"
   ]
  },
  {
   "cell_type": "code",
   "execution_count": 55,
   "id": "365a8633-ade9-4a81-a800-7bd1607dbc5e",
   "metadata": {
    "tags": []
   },
   "outputs": [
    {
     "data": {
      "text/plain": [
       "0      28\n",
       "1      50\n",
       "2      43\n",
       "3      44\n",
       "4      33\n",
       "       ..\n",
       "495    49\n",
       "496    24\n",
       "497    34\n",
       "498    26\n",
       "499    26\n",
       "Name: age, Length: 500, dtype: int32"
      ]
     },
     "execution_count": 55,
     "metadata": {},
     "output_type": "execute_result"
    }
   ],
   "source": [
    "esX "
   ]
  },
  {
   "cell_type": "code",
   "execution_count": 56,
   "id": "e26cb9c2-ed1c-4d0b-abf0-e904105232f6",
   "metadata": {
    "tags": []
   },
   "outputs": [
    {
     "data": {
      "text/plain": [
       "0      1\n",
       "1      0\n",
       "2      0\n",
       "3      1\n",
       "4      1\n",
       "      ..\n",
       "495    1\n",
       "496    0\n",
       "497    1\n",
       "498    0\n",
       "499    0\n",
       "Name: satisfied, Length: 500, dtype: int32"
      ]
     },
     "execution_count": 56,
     "metadata": {},
     "output_type": "execute_result"
    }
   ],
   "source": [
    "esY"
   ]
  },
  {
   "cell_type": "markdown",
   "id": "da3d07a8-fea0-4aa7-ac14-40671e1e9da8",
   "metadata": {},
   "source": [
    "#### Run the Analysis"
   ]
  },
  {
   "cell_type": "code",
   "execution_count": 57,
   "id": "029c516f-ae5d-4e94-b8d8-0f7cc7513940",
   "metadata": {},
   "outputs": [
    {
     "name": "stdout",
     "output_type": "stream",
     "text": [
      "Optimization terminated successfully.\n",
      "         Current function value: 0.691816\n",
      "         Iterations 3\n",
      "                        Results: Logit\n",
      "===============================================================\n",
      "Model:              Logit            Pseudo R-squared: -0.000  \n",
      "Dependent Variable: satisfied        AIC:              693.8163\n",
      "Date:               2023-03-15 18:46 BIC:              698.0309\n",
      "No. Observations:   500              Log-Likelihood:   -345.91 \n",
      "Df Model:           0                LL-Null:          -345.90 \n",
      "Df Residuals:       499              LLR p-value:      nan     \n",
      "Converged:          1.0000           Scale:            1.0000  \n",
      "No. Iterations:     3.0000                                     \n",
      "------------------------------------------------------------------\n",
      "       Coef.     Std.Err.      z       P>|z|      [0.025    0.975]\n",
      "------------------------------------------------------------------\n",
      "age    0.0026      0.0023    1.1527    0.2490    -0.0018    0.0070\n",
      "===============================================================\n",
      "\n"
     ]
    }
   ],
   "source": [
    "logit = sm.Logit(esY,esX)\n",
    "results = logit.fit()\n",
    "print(results.summary2())"
   ]
  },
  {
   "cell_type": "markdown",
   "id": "a0c33d5c-a1a4-44f0-8e7e-9451760dcdc3",
   "metadata": {},
   "source": [
    "#### p value is >.05 which makes age not significant variable to how satisfied you are."
   ]
  },
  {
   "cell_type": "code",
   "execution_count": 58,
   "id": "fd40d0ef-e807-4b91-895d-f79d2957988c",
   "metadata": {},
   "outputs": [],
   "source": [
    "esX2 = es1['salary']\n",
    "esY2 = es1['satisfied']"
   ]
  },
  {
   "cell_type": "code",
   "execution_count": 59,
   "id": "b00c68c1-a1bd-441e-be4a-697d3f1f1a36",
   "metadata": {},
   "outputs": [
    {
     "name": "stdout",
     "output_type": "stream",
     "text": [
      "Optimization terminated successfully.\n",
      "         Current function value: 0.691527\n",
      "         Iterations 2\n",
      "                        Results: Logit\n",
      "===============================================================\n",
      "Model:              Logit            Pseudo R-squared: 0.000   \n",
      "Dependent Variable: satisfied        AIC:              693.5267\n",
      "Date:               2023-03-15 18:46 BIC:              697.7413\n",
      "No. Observations:   500              Log-Likelihood:   -345.76 \n",
      "Df Model:           0                LL-Null:          -345.90 \n",
      "Df Residuals:       499              LLR p-value:      nan     \n",
      "Converged:          1.0000           Scale:            1.0000  \n",
      "No. Iterations:     2.0000                                     \n",
      "-----------------------------------------------------------------\n",
      "           Coef.    Std.Err.     z      P>|z|     [0.025   0.975]\n",
      "-----------------------------------------------------------------\n",
      "salary     0.0000     0.0000   1.2712   0.2037   -0.0000   0.0000\n",
      "===============================================================\n",
      "\n"
     ]
    }
   ],
   "source": [
    "logit = sm.Logit(esY2,esX2)\n",
    "results = logit.fit()\n",
    "print(results.summary2())"
   ]
  },
  {
   "cell_type": "markdown",
   "id": "fd2f1733-0078-48a5-a3a0-00b0f09bc0ec",
   "metadata": {},
   "source": [
    "#### p value is >.05 which makes age not significant variable to how satisfied you are."
   ]
  },
  {
   "cell_type": "code",
   "execution_count": 60,
   "id": "2f658760-ef96-409f-8df8-e27723cacf0b",
   "metadata": {},
   "outputs": [],
   "source": [
    "esX3 = es1['rating']\n",
    "esY3 = es1['satisfied']"
   ]
  },
  {
   "cell_type": "code",
   "execution_count": 61,
   "id": "b69c5001-4535-48c8-917c-11e20b147b7f",
   "metadata": {},
   "outputs": [
    {
     "name": "stdout",
     "output_type": "stream",
     "text": [
      "Optimization terminated successfully.\n",
      "         Current function value: 0.689421\n",
      "         Iterations 3\n",
      "                        Results: Logit\n",
      "===============================================================\n",
      "Model:              Logit            Pseudo R-squared: 0.003   \n",
      "Dependent Variable: satisfied        AIC:              691.4211\n",
      "Date:               2023-03-15 18:47 BIC:              695.6357\n",
      "No. Observations:   500              Log-Likelihood:   -344.71 \n",
      "Df Model:           0                LL-Null:          -345.90 \n",
      "Df Residuals:       499              LLR p-value:      nan     \n",
      "Converged:          1.0000           Scale:            1.0000  \n",
      "No. Iterations:     3.0000                                     \n",
      "-----------------------------------------------------------------\n",
      "           Coef.    Std.Err.     z      P>|z|     [0.025   0.975]\n",
      "-----------------------------------------------------------------\n",
      "rating     0.0511     0.0266   1.9246   0.0543   -0.0009   0.1032\n",
      "===============================================================\n",
      "\n"
     ]
    }
   ],
   "source": [
    "logit = sm.Logit(esY3,esX3)\n",
    "results = logit.fit()\n",
    "print(results.summary2())"
   ]
  },
  {
   "cell_type": "code",
   "execution_count": 62,
   "id": "0e8acd5a-4f50-4d68-8668-794d89a6c327",
   "metadata": {},
   "outputs": [],
   "source": [
    "esX4 = es1['job_level']\n",
    "esY4 = es1['satisfied']"
   ]
  },
  {
   "cell_type": "code",
   "execution_count": 63,
   "id": "c0d2782d-f835-484a-b368-ddefa5e8daff",
   "metadata": {},
   "outputs": [
    {
     "name": "stdout",
     "output_type": "stream",
     "text": [
      "Optimization terminated successfully.\n",
      "         Current function value: 0.691827\n",
      "         Iterations 3\n",
      "                        Results: Logit\n",
      "===============================================================\n",
      "Model:              Logit            Pseudo R-squared: -0.000  \n",
      "Dependent Variable: satisfied        AIC:              693.8274\n",
      "Date:               2023-03-15 18:47 BIC:              698.0420\n",
      "No. Observations:   500              Log-Likelihood:   -345.91 \n",
      "Df Model:           0                LL-Null:          -345.90 \n",
      "Df Residuals:       499              LLR p-value:      nan     \n",
      "Converged:          1.0000           Scale:            1.0000  \n",
      "No. Iterations:     3.0000                                     \n",
      "----------------------------------------------------------------\n",
      "               Coef.   Std.Err.    z     P>|z|    [0.025  0.975]\n",
      "----------------------------------------------------------------\n",
      "job_level      0.0307    0.0268  1.1476  0.2511  -0.0217  0.0832\n",
      "===============================================================\n",
      "\n"
     ]
    }
   ],
   "source": [
    "logit = sm.Logit(esY4,esX4)\n",
    "results = logit.fit()\n",
    "print(results.summary2())"
   ]
  },
  {
   "cell_type": "markdown",
   "id": "81e6f18b-97ce-446a-be9a-0a96528c3742",
   "metadata": {},
   "source": [
    "#### looks like these variables are not significant as I thought they would be\n",
    "#### look for it in R aswell"
   ]
  },
  {
   "cell_type": "code",
   "execution_count": 64,
   "id": "0ec37fb6-ac0b-409b-812a-bb140cfd6463",
   "metadata": {},
   "outputs": [
    {
     "data": {
      "text/html": [
       "<div>\n",
       "<style scoped>\n",
       "    .dataframe tbody tr th:only-of-type {\n",
       "        vertical-align: middle;\n",
       "    }\n",
       "\n",
       "    .dataframe tbody tr th {\n",
       "        vertical-align: top;\n",
       "    }\n",
       "\n",
       "    .dataframe thead th {\n",
       "        text-align: right;\n",
       "    }\n",
       "</style>\n",
       "<table border=\"1\" class=\"dataframe\">\n",
       "  <thead>\n",
       "    <tr style=\"text-align: right;\">\n",
       "      <th></th>\n",
       "      <th>age</th>\n",
       "      <th>Dept</th>\n",
       "      <th>location</th>\n",
       "      <th>education</th>\n",
       "      <th>recruitment_type</th>\n",
       "      <th>job_level</th>\n",
       "      <th>rating</th>\n",
       "      <th>onsite</th>\n",
       "      <th>salary</th>\n",
       "      <th>satisfied</th>\n",
       "      <th>GenType</th>\n",
       "    </tr>\n",
       "  </thead>\n",
       "  <tbody>\n",
       "    <tr>\n",
       "      <th>0</th>\n",
       "      <td>28</td>\n",
       "      <td>HR</td>\n",
       "      <td>Suburb</td>\n",
       "      <td>PG</td>\n",
       "      <td>Referral</td>\n",
       "      <td>5</td>\n",
       "      <td>2</td>\n",
       "      <td>0</td>\n",
       "      <td>86750</td>\n",
       "      <td>1</td>\n",
       "      <td>Millennials 27-42</td>\n",
       "    </tr>\n",
       "    <tr>\n",
       "      <th>1</th>\n",
       "      <td>50</td>\n",
       "      <td>Technology</td>\n",
       "      <td>Suburb</td>\n",
       "      <td>PG</td>\n",
       "      <td>Walk-in</td>\n",
       "      <td>3</td>\n",
       "      <td>5</td>\n",
       "      <td>1</td>\n",
       "      <td>42419</td>\n",
       "      <td>0</td>\n",
       "      <td>GenX 42-58</td>\n",
       "    </tr>\n",
       "    <tr>\n",
       "      <th>2</th>\n",
       "      <td>43</td>\n",
       "      <td>Technology</td>\n",
       "      <td>Suburb</td>\n",
       "      <td>UG</td>\n",
       "      <td>Referral</td>\n",
       "      <td>4</td>\n",
       "      <td>1</td>\n",
       "      <td>0</td>\n",
       "      <td>65715</td>\n",
       "      <td>0</td>\n",
       "      <td>GenX 42-58</td>\n",
       "    </tr>\n",
       "    <tr>\n",
       "      <th>3</th>\n",
       "      <td>44</td>\n",
       "      <td>Sales</td>\n",
       "      <td>City</td>\n",
       "      <td>PG</td>\n",
       "      <td>On-Campus</td>\n",
       "      <td>2</td>\n",
       "      <td>3</td>\n",
       "      <td>1</td>\n",
       "      <td>29805</td>\n",
       "      <td>1</td>\n",
       "      <td>GenX 42-58</td>\n",
       "    </tr>\n",
       "    <tr>\n",
       "      <th>4</th>\n",
       "      <td>33</td>\n",
       "      <td>HR</td>\n",
       "      <td>City</td>\n",
       "      <td>UG</td>\n",
       "      <td>Recruitment Agency</td>\n",
       "      <td>2</td>\n",
       "      <td>1</td>\n",
       "      <td>0</td>\n",
       "      <td>29805</td>\n",
       "      <td>1</td>\n",
       "      <td>Millennials 27-42</td>\n",
       "    </tr>\n",
       "  </tbody>\n",
       "</table>\n",
       "</div>"
      ],
      "text/plain": [
       "   age        Dept location education    recruitment_type  job_level  rating  \\\n",
       "0   28          HR   Suburb        PG            Referral          5       2   \n",
       "1   50  Technology   Suburb        PG             Walk-in          3       5   \n",
       "2   43  Technology   Suburb        UG            Referral          4       1   \n",
       "3   44       Sales     City        PG           On-Campus          2       3   \n",
       "4   33          HR     City        UG  Recruitment Agency          2       1   \n",
       "\n",
       "   onsite  salary  satisfied            GenType  \n",
       "0       0   86750          1  Millennials 27-42  \n",
       "1       1   42419          0         GenX 42-58  \n",
       "2       0   65715          0         GenX 42-58  \n",
       "3       1   29805          1         GenX 42-58  \n",
       "4       0   29805          1  Millennials 27-42  "
      ]
     },
     "execution_count": 64,
     "metadata": {},
     "output_type": "execute_result"
    }
   ],
   "source": [
    "es1.head()"
   ]
  },
  {
   "cell_type": "code",
   "execution_count": null,
   "id": "ec48e4eb-36a0-485c-b7df-aadbb50a0bbf",
   "metadata": {},
   "outputs": [],
   "source": []
  }
 ],
 "metadata": {
  "kernelspec": {
   "display_name": "Python 3 (ipykernel)",
   "language": "python",
   "name": "python3"
  },
  "language_info": {
   "codemirror_mode": {
    "name": "ipython",
    "version": 3
   },
   "file_extension": ".py",
   "mimetype": "text/x-python",
   "name": "python",
   "nbconvert_exporter": "python",
   "pygments_lexer": "ipython3",
   "version": "3.10.5"
  }
 },
 "nbformat": 4,
 "nbformat_minor": 5
}
