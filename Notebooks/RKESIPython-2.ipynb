{
 "cells": [
  {
   "cell_type": "code",
   "execution_count": 1,
   "id": "d344db4c",
   "metadata": {},
   "outputs": [],
   "source": [
    "## Libraries"
   ]
  },
  {
   "cell_type": "code",
   "execution_count": 2,
   "id": "461b8484",
   "metadata": {},
   "outputs": [],
   "source": [
    "import pandas as pd\n",
    "import numpy as np\n",
    "import matplotlib.pyplot as plt\n",
    "from pylab import *\n",
    "import seaborn as sns\n",
    "%matplotlib inline\n",
    "import  statsmodels.api as sm\n",
    "import statsmodels.stats.api as sms\n",
    "from scipy.stats import boxcox"
   ]
  },
  {
   "cell_type": "code",
   "execution_count": 3,
   "id": "a3d141a5",
   "metadata": {},
   "outputs": [],
   "source": [
    "ESI = pd.read_csv('~renoodle/Downloads/Employee Satisfaction Index.csv')"
   ]
  },
  {
   "cell_type": "code",
   "execution_count": 4,
   "id": "016f9294",
   "metadata": {},
   "outputs": [],
   "source": [
    "#Recode Activity into a New Variable"
   ]
  },
  {
   "cell_type": "code",
   "execution_count": 5,
   "id": "2fecd043",
   "metadata": {},
   "outputs": [
    {
     "data": {
      "text/html": [
       "<div>\n",
       "<style scoped>\n",
       "    .dataframe tbody tr th:only-of-type {\n",
       "        vertical-align: middle;\n",
       "    }\n",
       "\n",
       "    .dataframe tbody tr th {\n",
       "        vertical-align: top;\n",
       "    }\n",
       "\n",
       "    .dataframe thead th {\n",
       "        text-align: right;\n",
       "    }\n",
       "</style>\n",
       "<table border=\"1\" class=\"dataframe\">\n",
       "  <thead>\n",
       "    <tr style=\"text-align: right;\">\n",
       "      <th></th>\n",
       "      <th>Unnamed: 0</th>\n",
       "      <th>emp_id</th>\n",
       "      <th>age</th>\n",
       "      <th>Dept</th>\n",
       "      <th>location</th>\n",
       "      <th>education</th>\n",
       "      <th>recruitment_type</th>\n",
       "      <th>job_level</th>\n",
       "      <th>rating</th>\n",
       "      <th>onsite</th>\n",
       "      <th>awards</th>\n",
       "      <th>certifications</th>\n",
       "      <th>salary</th>\n",
       "      <th>satisfied</th>\n",
       "    </tr>\n",
       "  </thead>\n",
       "  <tbody>\n",
       "    <tr>\n",
       "      <th>0</th>\n",
       "      <td>0</td>\n",
       "      <td>HR8270</td>\n",
       "      <td>28</td>\n",
       "      <td>HR</td>\n",
       "      <td>Suburb</td>\n",
       "      <td>PG</td>\n",
       "      <td>Referral</td>\n",
       "      <td>5</td>\n",
       "      <td>2</td>\n",
       "      <td>0</td>\n",
       "      <td>1</td>\n",
       "      <td>0</td>\n",
       "      <td>86750</td>\n",
       "      <td>1</td>\n",
       "    </tr>\n",
       "    <tr>\n",
       "      <th>1</th>\n",
       "      <td>1</td>\n",
       "      <td>TECH1860</td>\n",
       "      <td>50</td>\n",
       "      <td>Technology</td>\n",
       "      <td>Suburb</td>\n",
       "      <td>PG</td>\n",
       "      <td>Walk-in</td>\n",
       "      <td>3</td>\n",
       "      <td>5</td>\n",
       "      <td>1</td>\n",
       "      <td>2</td>\n",
       "      <td>1</td>\n",
       "      <td>42419</td>\n",
       "      <td>0</td>\n",
       "    </tr>\n",
       "    <tr>\n",
       "      <th>2</th>\n",
       "      <td>2</td>\n",
       "      <td>TECH6390</td>\n",
       "      <td>43</td>\n",
       "      <td>Technology</td>\n",
       "      <td>Suburb</td>\n",
       "      <td>UG</td>\n",
       "      <td>Referral</td>\n",
       "      <td>4</td>\n",
       "      <td>1</td>\n",
       "      <td>0</td>\n",
       "      <td>2</td>\n",
       "      <td>0</td>\n",
       "      <td>65715</td>\n",
       "      <td>0</td>\n",
       "    </tr>\n",
       "    <tr>\n",
       "      <th>3</th>\n",
       "      <td>3</td>\n",
       "      <td>SAL6191</td>\n",
       "      <td>44</td>\n",
       "      <td>Sales</td>\n",
       "      <td>City</td>\n",
       "      <td>PG</td>\n",
       "      <td>On-Campus</td>\n",
       "      <td>2</td>\n",
       "      <td>3</td>\n",
       "      <td>1</td>\n",
       "      <td>0</td>\n",
       "      <td>0</td>\n",
       "      <td>29805</td>\n",
       "      <td>1</td>\n",
       "    </tr>\n",
       "    <tr>\n",
       "      <th>4</th>\n",
       "      <td>4</td>\n",
       "      <td>HR6734</td>\n",
       "      <td>33</td>\n",
       "      <td>HR</td>\n",
       "      <td>City</td>\n",
       "      <td>UG</td>\n",
       "      <td>Recruitment Agency</td>\n",
       "      <td>2</td>\n",
       "      <td>1</td>\n",
       "      <td>0</td>\n",
       "      <td>5</td>\n",
       "      <td>0</td>\n",
       "      <td>29805</td>\n",
       "      <td>1</td>\n",
       "    </tr>\n",
       "  </tbody>\n",
       "</table>\n",
       "</div>"
      ],
      "text/plain": [
       "   Unnamed: 0    emp_id  age        Dept location education  \\\n",
       "0           0    HR8270   28          HR   Suburb        PG   \n",
       "1           1  TECH1860   50  Technology   Suburb        PG   \n",
       "2           2  TECH6390   43  Technology   Suburb        UG   \n",
       "3           3   SAL6191   44       Sales     City        PG   \n",
       "4           4    HR6734   33          HR     City        UG   \n",
       "\n",
       "     recruitment_type  job_level  rating  onsite  awards  certifications  \\\n",
       "0            Referral          5       2       0       1               0   \n",
       "1             Walk-in          3       5       1       2               1   \n",
       "2            Referral          4       1       0       2               0   \n",
       "3           On-Campus          2       3       1       0               0   \n",
       "4  Recruitment Agency          2       1       0       5               0   \n",
       "\n",
       "   salary  satisfied  \n",
       "0   86750          1  \n",
       "1   42419          0  \n",
       "2   65715          0  \n",
       "3   29805          1  \n",
       "4   29805          1  "
      ]
     },
     "execution_count": 5,
     "metadata": {},
     "output_type": "execute_result"
    }
   ],
   "source": [
    "ESI.head()"
   ]
  },
  {
   "cell_type": "code",
   "execution_count": 6,
   "id": "c2a8f7d7",
   "metadata": {},
   "outputs": [],
   "source": [
    "## Dropping Columns"
   ]
  },
  {
   "cell_type": "code",
   "execution_count": 93,
   "id": "bc77710c",
   "metadata": {},
   "outputs": [],
   "source": [
    "emsain = ESI[['age', 'Dept', 'location', 'job_level', 'recruitment_type', 'rating', 'satisfied', 'education']]"
   ]
  },
  {
   "cell_type": "code",
   "execution_count": 94,
   "id": "849b1282",
   "metadata": {},
   "outputs": [
    {
     "data": {
      "text/html": [
       "<div>\n",
       "<style scoped>\n",
       "    .dataframe tbody tr th:only-of-type {\n",
       "        vertical-align: middle;\n",
       "    }\n",
       "\n",
       "    .dataframe tbody tr th {\n",
       "        vertical-align: top;\n",
       "    }\n",
       "\n",
       "    .dataframe thead th {\n",
       "        text-align: right;\n",
       "    }\n",
       "</style>\n",
       "<table border=\"1\" class=\"dataframe\">\n",
       "  <thead>\n",
       "    <tr style=\"text-align: right;\">\n",
       "      <th></th>\n",
       "      <th>age</th>\n",
       "      <th>Dept</th>\n",
       "      <th>location</th>\n",
       "      <th>job_level</th>\n",
       "      <th>recruitment_type</th>\n",
       "      <th>rating</th>\n",
       "      <th>satisfied</th>\n",
       "      <th>education</th>\n",
       "    </tr>\n",
       "  </thead>\n",
       "  <tbody>\n",
       "    <tr>\n",
       "      <th>0</th>\n",
       "      <td>28</td>\n",
       "      <td>HR</td>\n",
       "      <td>Suburb</td>\n",
       "      <td>5</td>\n",
       "      <td>Referral</td>\n",
       "      <td>2</td>\n",
       "      <td>1</td>\n",
       "      <td>PG</td>\n",
       "    </tr>\n",
       "    <tr>\n",
       "      <th>1</th>\n",
       "      <td>50</td>\n",
       "      <td>Technology</td>\n",
       "      <td>Suburb</td>\n",
       "      <td>3</td>\n",
       "      <td>Walk-in</td>\n",
       "      <td>5</td>\n",
       "      <td>0</td>\n",
       "      <td>PG</td>\n",
       "    </tr>\n",
       "    <tr>\n",
       "      <th>2</th>\n",
       "      <td>43</td>\n",
       "      <td>Technology</td>\n",
       "      <td>Suburb</td>\n",
       "      <td>4</td>\n",
       "      <td>Referral</td>\n",
       "      <td>1</td>\n",
       "      <td>0</td>\n",
       "      <td>UG</td>\n",
       "    </tr>\n",
       "    <tr>\n",
       "      <th>3</th>\n",
       "      <td>44</td>\n",
       "      <td>Sales</td>\n",
       "      <td>City</td>\n",
       "      <td>2</td>\n",
       "      <td>On-Campus</td>\n",
       "      <td>3</td>\n",
       "      <td>1</td>\n",
       "      <td>PG</td>\n",
       "    </tr>\n",
       "    <tr>\n",
       "      <th>4</th>\n",
       "      <td>33</td>\n",
       "      <td>HR</td>\n",
       "      <td>City</td>\n",
       "      <td>2</td>\n",
       "      <td>Recruitment Agency</td>\n",
       "      <td>1</td>\n",
       "      <td>1</td>\n",
       "      <td>UG</td>\n",
       "    </tr>\n",
       "  </tbody>\n",
       "</table>\n",
       "</div>"
      ],
      "text/plain": [
       "   age        Dept location  job_level    recruitment_type  rating  satisfied  \\\n",
       "0   28          HR   Suburb          5            Referral       2          1   \n",
       "1   50  Technology   Suburb          3             Walk-in       5          0   \n",
       "2   43  Technology   Suburb          4            Referral       1          0   \n",
       "3   44       Sales     City          2           On-Campus       3          1   \n",
       "4   33          HR     City          2  Recruitment Agency       1          1   \n",
       "\n",
       "  education  \n",
       "0        PG  \n",
       "1        PG  \n",
       "2        UG  \n",
       "3        PG  \n",
       "4        UG  "
      ]
     },
     "execution_count": 94,
     "metadata": {},
     "output_type": "execute_result"
    }
   ],
   "source": [
    "emsain.head()"
   ]
  },
  {
   "cell_type": "code",
   "execution_count": 22,
   "id": "67ab619d",
   "metadata": {},
   "outputs": [],
   "source": [
    "## Changing Dept, recruitment_typelocation and education to integers"
   ]
  },
  {
   "cell_type": "code",
   "execution_count": 23,
   "id": "1e27fb9d",
   "metadata": {},
   "outputs": [],
   "source": [
    "def Dept (series):\n",
    "    if series == \"HR\":\n",
    "        return 0\n",
    "    if series == \"Marketing\":\n",
    "        return 1\n",
    "    if series == \"Purchasing\":\n",
    "        return 2\n",
    "    if series == \"Sales\":\n",
    "        return 3\n",
    "    if series == \"Technology\":\n",
    "        return 4"
   ]
  },
  {
   "cell_type": "code",
   "execution_count": 95,
   "id": "d62c6d1c",
   "metadata": {},
   "outputs": [],
   "source": [
    "def education (series):\n",
    "    if series == \"PG\":\n",
    "        return 0\n",
    "    if series == \"UG\":\n",
    "        return 1"
   ]
  },
  {
   "cell_type": "code",
   "execution_count": 97,
   "id": "33fc76f8",
   "metadata": {},
   "outputs": [
    {
     "data": {
      "text/html": [
       "<div>\n",
       "<style scoped>\n",
       "    .dataframe tbody tr th:only-of-type {\n",
       "        vertical-align: middle;\n",
       "    }\n",
       "\n",
       "    .dataframe tbody tr th {\n",
       "        vertical-align: top;\n",
       "    }\n",
       "\n",
       "    .dataframe thead th {\n",
       "        text-align: right;\n",
       "    }\n",
       "</style>\n",
       "<table border=\"1\" class=\"dataframe\">\n",
       "  <thead>\n",
       "    <tr style=\"text-align: right;\">\n",
       "      <th></th>\n",
       "      <th>age</th>\n",
       "      <th>Dept</th>\n",
       "      <th>location</th>\n",
       "      <th>job_level</th>\n",
       "      <th>recruitment_type</th>\n",
       "      <th>rating</th>\n",
       "      <th>satisfied</th>\n",
       "      <th>education</th>\n",
       "    </tr>\n",
       "  </thead>\n",
       "  <tbody>\n",
       "    <tr>\n",
       "      <th>0</th>\n",
       "      <td>28</td>\n",
       "      <td>HR</td>\n",
       "      <td>Suburb</td>\n",
       "      <td>5</td>\n",
       "      <td>Referral</td>\n",
       "      <td>2</td>\n",
       "      <td>1</td>\n",
       "      <td>PG</td>\n",
       "    </tr>\n",
       "    <tr>\n",
       "      <th>1</th>\n",
       "      <td>50</td>\n",
       "      <td>Technology</td>\n",
       "      <td>Suburb</td>\n",
       "      <td>3</td>\n",
       "      <td>Walk-in</td>\n",
       "      <td>5</td>\n",
       "      <td>0</td>\n",
       "      <td>PG</td>\n",
       "    </tr>\n",
       "    <tr>\n",
       "      <th>2</th>\n",
       "      <td>43</td>\n",
       "      <td>Technology</td>\n",
       "      <td>Suburb</td>\n",
       "      <td>4</td>\n",
       "      <td>Referral</td>\n",
       "      <td>1</td>\n",
       "      <td>0</td>\n",
       "      <td>UG</td>\n",
       "    </tr>\n",
       "    <tr>\n",
       "      <th>3</th>\n",
       "      <td>44</td>\n",
       "      <td>Sales</td>\n",
       "      <td>City</td>\n",
       "      <td>2</td>\n",
       "      <td>On-Campus</td>\n",
       "      <td>3</td>\n",
       "      <td>1</td>\n",
       "      <td>PG</td>\n",
       "    </tr>\n",
       "    <tr>\n",
       "      <th>4</th>\n",
       "      <td>33</td>\n",
       "      <td>HR</td>\n",
       "      <td>City</td>\n",
       "      <td>2</td>\n",
       "      <td>Recruitment Agency</td>\n",
       "      <td>1</td>\n",
       "      <td>1</td>\n",
       "      <td>UG</td>\n",
       "    </tr>\n",
       "  </tbody>\n",
       "</table>\n",
       "</div>"
      ],
      "text/plain": [
       "   age        Dept location  job_level    recruitment_type  rating  satisfied  \\\n",
       "0   28          HR   Suburb          5            Referral       2          1   \n",
       "1   50  Technology   Suburb          3             Walk-in       5          0   \n",
       "2   43  Technology   Suburb          4            Referral       1          0   \n",
       "3   44       Sales     City          2           On-Campus       3          1   \n",
       "4   33          HR     City          2  Recruitment Agency       1          1   \n",
       "\n",
       "  education  \n",
       "0        PG  \n",
       "1        PG  \n",
       "2        UG  \n",
       "3        PG  \n",
       "4        UG  "
      ]
     },
     "execution_count": 97,
     "metadata": {},
     "output_type": "execute_result"
    }
   ],
   "source": [
    "emsain.head()"
   ]
  },
  {
   "cell_type": "code",
   "execution_count": 25,
   "id": "e9886cfb",
   "metadata": {},
   "outputs": [
    {
     "name": "stderr",
     "output_type": "stream",
     "text": [
      "/var/folders/dy/3cj_6r_563b7v9s2jh41rn8m0000gn/T/ipykernel_10607/1192735450.py:1: SettingWithCopyWarning: \n",
      "A value is trying to be set on a copy of a slice from a DataFrame.\n",
      "Try using .loc[row_indexer,col_indexer] = value instead\n",
      "\n",
      "See the caveats in the documentation: https://pandas.pydata.org/pandas-docs/stable/user_guide/indexing.html#returning-a-view-versus-a-copy\n",
      "  emsain['Dept1'] = emsain['Dept'].apply(Dept)\n"
     ]
    }
   ],
   "source": [
    "emsain['Dept1'] = emsain['Dept'].apply(Dept)"
   ]
  },
  {
   "cell_type": "code",
   "execution_count": 98,
   "id": "bbb5d1a2",
   "metadata": {},
   "outputs": [
    {
     "data": {
      "text/html": [
       "<div>\n",
       "<style scoped>\n",
       "    .dataframe tbody tr th:only-of-type {\n",
       "        vertical-align: middle;\n",
       "    }\n",
       "\n",
       "    .dataframe tbody tr th {\n",
       "        vertical-align: top;\n",
       "    }\n",
       "\n",
       "    .dataframe thead th {\n",
       "        text-align: right;\n",
       "    }\n",
       "</style>\n",
       "<table border=\"1\" class=\"dataframe\">\n",
       "  <thead>\n",
       "    <tr style=\"text-align: right;\">\n",
       "      <th></th>\n",
       "      <th>age</th>\n",
       "      <th>Dept</th>\n",
       "      <th>location</th>\n",
       "      <th>job_level</th>\n",
       "      <th>recruitment_type</th>\n",
       "      <th>rating</th>\n",
       "      <th>satisfied</th>\n",
       "      <th>education</th>\n",
       "    </tr>\n",
       "  </thead>\n",
       "  <tbody>\n",
       "    <tr>\n",
       "      <th>0</th>\n",
       "      <td>28</td>\n",
       "      <td>HR</td>\n",
       "      <td>Suburb</td>\n",
       "      <td>5</td>\n",
       "      <td>Referral</td>\n",
       "      <td>2</td>\n",
       "      <td>1</td>\n",
       "      <td>PG</td>\n",
       "    </tr>\n",
       "    <tr>\n",
       "      <th>1</th>\n",
       "      <td>50</td>\n",
       "      <td>Technology</td>\n",
       "      <td>Suburb</td>\n",
       "      <td>3</td>\n",
       "      <td>Walk-in</td>\n",
       "      <td>5</td>\n",
       "      <td>0</td>\n",
       "      <td>PG</td>\n",
       "    </tr>\n",
       "    <tr>\n",
       "      <th>2</th>\n",
       "      <td>43</td>\n",
       "      <td>Technology</td>\n",
       "      <td>Suburb</td>\n",
       "      <td>4</td>\n",
       "      <td>Referral</td>\n",
       "      <td>1</td>\n",
       "      <td>0</td>\n",
       "      <td>UG</td>\n",
       "    </tr>\n",
       "    <tr>\n",
       "      <th>3</th>\n",
       "      <td>44</td>\n",
       "      <td>Sales</td>\n",
       "      <td>City</td>\n",
       "      <td>2</td>\n",
       "      <td>On-Campus</td>\n",
       "      <td>3</td>\n",
       "      <td>1</td>\n",
       "      <td>PG</td>\n",
       "    </tr>\n",
       "    <tr>\n",
       "      <th>4</th>\n",
       "      <td>33</td>\n",
       "      <td>HR</td>\n",
       "      <td>City</td>\n",
       "      <td>2</td>\n",
       "      <td>Recruitment Agency</td>\n",
       "      <td>1</td>\n",
       "      <td>1</td>\n",
       "      <td>UG</td>\n",
       "    </tr>\n",
       "  </tbody>\n",
       "</table>\n",
       "</div>"
      ],
      "text/plain": [
       "   age        Dept location  job_level    recruitment_type  rating  satisfied  \\\n",
       "0   28          HR   Suburb          5            Referral       2          1   \n",
       "1   50  Technology   Suburb          3             Walk-in       5          0   \n",
       "2   43  Technology   Suburb          4            Referral       1          0   \n",
       "3   44       Sales     City          2           On-Campus       3          1   \n",
       "4   33          HR     City          2  Recruitment Agency       1          1   \n",
       "\n",
       "  education  \n",
       "0        PG  \n",
       "1        PG  \n",
       "2        UG  \n",
       "3        PG  \n",
       "4        UG  "
      ]
     },
     "execution_count": 98,
     "metadata": {},
     "output_type": "execute_result"
    }
   ],
   "source": [
    "emsain.head()"
   ]
  },
  {
   "cell_type": "code",
   "execution_count": 99,
   "id": "64668e61",
   "metadata": {},
   "outputs": [],
   "source": [
    "def recruitment_type (series):\n",
    "    if series == \"On-Campus\":\n",
    "        return 0\n",
    "    if series == \"Recruitment Agency\":\n",
    "        return 1\n",
    "    if series == \"Referral\":\n",
    "        return 2\n",
    "    if series == \"Walk-in\":\n",
    "        return 3"
   ]
  },
  {
   "cell_type": "code",
   "execution_count": 100,
   "id": "69681219",
   "metadata": {},
   "outputs": [
    {
     "name": "stderr",
     "output_type": "stream",
     "text": [
      "/var/folders/dy/3cj_6r_563b7v9s2jh41rn8m0000gn/T/ipykernel_10607/3563280524.py:1: SettingWithCopyWarning: \n",
      "A value is trying to be set on a copy of a slice from a DataFrame.\n",
      "Try using .loc[row_indexer,col_indexer] = value instead\n",
      "\n",
      "See the caveats in the documentation: https://pandas.pydata.org/pandas-docs/stable/user_guide/indexing.html#returning-a-view-versus-a-copy\n",
      "  emsain['recruitment_type1'] = emsain['recruitment_type'].apply(recruitment_type)\n"
     ]
    }
   ],
   "source": [
    "emsain['recruitment_type1'] = emsain['recruitment_type'].apply(recruitment_type)"
   ]
  },
  {
   "cell_type": "code",
   "execution_count": 101,
   "id": "32623744",
   "metadata": {},
   "outputs": [
    {
     "name": "stderr",
     "output_type": "stream",
     "text": [
      "/var/folders/dy/3cj_6r_563b7v9s2jh41rn8m0000gn/T/ipykernel_10607/2671813348.py:1: SettingWithCopyWarning: \n",
      "A value is trying to be set on a copy of a slice from a DataFrame.\n",
      "Try using .loc[row_indexer,col_indexer] = value instead\n",
      "\n",
      "See the caveats in the documentation: https://pandas.pydata.org/pandas-docs/stable/user_guide/indexing.html#returning-a-view-versus-a-copy\n",
      "  emsain['education1'] = emsain['education'].apply(education)\n"
     ]
    }
   ],
   "source": [
    "emsain['education1'] = emsain['education'].apply(education)"
   ]
  },
  {
   "cell_type": "code",
   "execution_count": 103,
   "id": "95f0a0bd",
   "metadata": {},
   "outputs": [
    {
     "name": "stderr",
     "output_type": "stream",
     "text": [
      "/var/folders/dy/3cj_6r_563b7v9s2jh41rn8m0000gn/T/ipykernel_10607/1192735450.py:1: SettingWithCopyWarning: \n",
      "A value is trying to be set on a copy of a slice from a DataFrame.\n",
      "Try using .loc[row_indexer,col_indexer] = value instead\n",
      "\n",
      "See the caveats in the documentation: https://pandas.pydata.org/pandas-docs/stable/user_guide/indexing.html#returning-a-view-versus-a-copy\n",
      "  emsain['Dept1'] = emsain['Dept'].apply(Dept)\n"
     ]
    }
   ],
   "source": [
    "emsain['Dept1'] = emsain['Dept'].apply(Dept)"
   ]
  },
  {
   "cell_type": "code",
   "execution_count": 104,
   "id": "284e8d6b",
   "metadata": {},
   "outputs": [
    {
     "name": "stderr",
     "output_type": "stream",
     "text": [
      "/var/folders/dy/3cj_6r_563b7v9s2jh41rn8m0000gn/T/ipykernel_10607/4189490208.py:1: SettingWithCopyWarning: \n",
      "A value is trying to be set on a copy of a slice from a DataFrame.\n",
      "Try using .loc[row_indexer,col_indexer] = value instead\n",
      "\n",
      "See the caveats in the documentation: https://pandas.pydata.org/pandas-docs/stable/user_guide/indexing.html#returning-a-view-versus-a-copy\n",
      "  emsain['location1'] = emsain['location'].apply(location)\n"
     ]
    }
   ],
   "source": [
    "emsain['location1'] = emsain['location'].apply(location)"
   ]
  },
  {
   "cell_type": "code",
   "execution_count": 105,
   "id": "e93e5022",
   "metadata": {},
   "outputs": [
    {
     "data": {
      "text/html": [
       "<div>\n",
       "<style scoped>\n",
       "    .dataframe tbody tr th:only-of-type {\n",
       "        vertical-align: middle;\n",
       "    }\n",
       "\n",
       "    .dataframe tbody tr th {\n",
       "        vertical-align: top;\n",
       "    }\n",
       "\n",
       "    .dataframe thead th {\n",
       "        text-align: right;\n",
       "    }\n",
       "</style>\n",
       "<table border=\"1\" class=\"dataframe\">\n",
       "  <thead>\n",
       "    <tr style=\"text-align: right;\">\n",
       "      <th></th>\n",
       "      <th>age</th>\n",
       "      <th>Dept</th>\n",
       "      <th>location</th>\n",
       "      <th>job_level</th>\n",
       "      <th>recruitment_type</th>\n",
       "      <th>rating</th>\n",
       "      <th>satisfied</th>\n",
       "      <th>education</th>\n",
       "      <th>recruitment_type1</th>\n",
       "      <th>education1</th>\n",
       "      <th>Dept1</th>\n",
       "      <th>location1</th>\n",
       "    </tr>\n",
       "  </thead>\n",
       "  <tbody>\n",
       "    <tr>\n",
       "      <th>0</th>\n",
       "      <td>28</td>\n",
       "      <td>HR</td>\n",
       "      <td>Suburb</td>\n",
       "      <td>5</td>\n",
       "      <td>Referral</td>\n",
       "      <td>2</td>\n",
       "      <td>1</td>\n",
       "      <td>PG</td>\n",
       "      <td>2</td>\n",
       "      <td>0</td>\n",
       "      <td>0</td>\n",
       "      <td>0</td>\n",
       "    </tr>\n",
       "    <tr>\n",
       "      <th>1</th>\n",
       "      <td>50</td>\n",
       "      <td>Technology</td>\n",
       "      <td>Suburb</td>\n",
       "      <td>3</td>\n",
       "      <td>Walk-in</td>\n",
       "      <td>5</td>\n",
       "      <td>0</td>\n",
       "      <td>PG</td>\n",
       "      <td>3</td>\n",
       "      <td>0</td>\n",
       "      <td>4</td>\n",
       "      <td>0</td>\n",
       "    </tr>\n",
       "    <tr>\n",
       "      <th>2</th>\n",
       "      <td>43</td>\n",
       "      <td>Technology</td>\n",
       "      <td>Suburb</td>\n",
       "      <td>4</td>\n",
       "      <td>Referral</td>\n",
       "      <td>1</td>\n",
       "      <td>0</td>\n",
       "      <td>UG</td>\n",
       "      <td>2</td>\n",
       "      <td>1</td>\n",
       "      <td>4</td>\n",
       "      <td>0</td>\n",
       "    </tr>\n",
       "    <tr>\n",
       "      <th>3</th>\n",
       "      <td>44</td>\n",
       "      <td>Sales</td>\n",
       "      <td>City</td>\n",
       "      <td>2</td>\n",
       "      <td>On-Campus</td>\n",
       "      <td>3</td>\n",
       "      <td>1</td>\n",
       "      <td>PG</td>\n",
       "      <td>0</td>\n",
       "      <td>0</td>\n",
       "      <td>3</td>\n",
       "      <td>1</td>\n",
       "    </tr>\n",
       "    <tr>\n",
       "      <th>4</th>\n",
       "      <td>33</td>\n",
       "      <td>HR</td>\n",
       "      <td>City</td>\n",
       "      <td>2</td>\n",
       "      <td>Recruitment Agency</td>\n",
       "      <td>1</td>\n",
       "      <td>1</td>\n",
       "      <td>UG</td>\n",
       "      <td>1</td>\n",
       "      <td>1</td>\n",
       "      <td>0</td>\n",
       "      <td>1</td>\n",
       "    </tr>\n",
       "  </tbody>\n",
       "</table>\n",
       "</div>"
      ],
      "text/plain": [
       "   age        Dept location  job_level    recruitment_type  rating  satisfied  \\\n",
       "0   28          HR   Suburb          5            Referral       2          1   \n",
       "1   50  Technology   Suburb          3             Walk-in       5          0   \n",
       "2   43  Technology   Suburb          4            Referral       1          0   \n",
       "3   44       Sales     City          2           On-Campus       3          1   \n",
       "4   33          HR     City          2  Recruitment Agency       1          1   \n",
       "\n",
       "  education  recruitment_type1  education1  Dept1  location1  \n",
       "0        PG                  2           0      0          0  \n",
       "1        PG                  3           0      4          0  \n",
       "2        UG                  2           1      4          0  \n",
       "3        PG                  0           0      3          1  \n",
       "4        UG                  1           1      0          1  "
      ]
     },
     "execution_count": 105,
     "metadata": {},
     "output_type": "execute_result"
    }
   ],
   "source": [
    "emsain.head()"
   ]
  },
  {
   "cell_type": "code",
   "execution_count": 106,
   "id": "b1ea9375",
   "metadata": {},
   "outputs": [],
   "source": [
    "def location (series):\n",
    "    if series == \"Suburb\":\n",
    "        return 0\n",
    "    if series == \"City\":\n",
    "        return 1"
   ]
  },
  {
   "cell_type": "code",
   "execution_count": 107,
   "id": "6e7c52b4",
   "metadata": {},
   "outputs": [
    {
     "name": "stderr",
     "output_type": "stream",
     "text": [
      "/var/folders/dy/3cj_6r_563b7v9s2jh41rn8m0000gn/T/ipykernel_10607/4189490208.py:1: SettingWithCopyWarning: \n",
      "A value is trying to be set on a copy of a slice from a DataFrame.\n",
      "Try using .loc[row_indexer,col_indexer] = value instead\n",
      "\n",
      "See the caveats in the documentation: https://pandas.pydata.org/pandas-docs/stable/user_guide/indexing.html#returning-a-view-versus-a-copy\n",
      "  emsain['location1'] = emsain['location'].apply(location)\n"
     ]
    }
   ],
   "source": [
    "emsain['location1'] = emsain['location'].apply(location)"
   ]
  },
  {
   "cell_type": "code",
   "execution_count": 108,
   "id": "0a0996ce",
   "metadata": {},
   "outputs": [
    {
     "data": {
      "text/html": [
       "<div>\n",
       "<style scoped>\n",
       "    .dataframe tbody tr th:only-of-type {\n",
       "        vertical-align: middle;\n",
       "    }\n",
       "\n",
       "    .dataframe tbody tr th {\n",
       "        vertical-align: top;\n",
       "    }\n",
       "\n",
       "    .dataframe thead th {\n",
       "        text-align: right;\n",
       "    }\n",
       "</style>\n",
       "<table border=\"1\" class=\"dataframe\">\n",
       "  <thead>\n",
       "    <tr style=\"text-align: right;\">\n",
       "      <th></th>\n",
       "      <th>age</th>\n",
       "      <th>Dept</th>\n",
       "      <th>location</th>\n",
       "      <th>job_level</th>\n",
       "      <th>recruitment_type</th>\n",
       "      <th>rating</th>\n",
       "      <th>satisfied</th>\n",
       "      <th>education</th>\n",
       "      <th>recruitment_type1</th>\n",
       "      <th>education1</th>\n",
       "      <th>Dept1</th>\n",
       "      <th>location1</th>\n",
       "    </tr>\n",
       "  </thead>\n",
       "  <tbody>\n",
       "    <tr>\n",
       "      <th>0</th>\n",
       "      <td>28</td>\n",
       "      <td>HR</td>\n",
       "      <td>Suburb</td>\n",
       "      <td>5</td>\n",
       "      <td>Referral</td>\n",
       "      <td>2</td>\n",
       "      <td>1</td>\n",
       "      <td>PG</td>\n",
       "      <td>2</td>\n",
       "      <td>0</td>\n",
       "      <td>0</td>\n",
       "      <td>0</td>\n",
       "    </tr>\n",
       "    <tr>\n",
       "      <th>1</th>\n",
       "      <td>50</td>\n",
       "      <td>Technology</td>\n",
       "      <td>Suburb</td>\n",
       "      <td>3</td>\n",
       "      <td>Walk-in</td>\n",
       "      <td>5</td>\n",
       "      <td>0</td>\n",
       "      <td>PG</td>\n",
       "      <td>3</td>\n",
       "      <td>0</td>\n",
       "      <td>4</td>\n",
       "      <td>0</td>\n",
       "    </tr>\n",
       "    <tr>\n",
       "      <th>2</th>\n",
       "      <td>43</td>\n",
       "      <td>Technology</td>\n",
       "      <td>Suburb</td>\n",
       "      <td>4</td>\n",
       "      <td>Referral</td>\n",
       "      <td>1</td>\n",
       "      <td>0</td>\n",
       "      <td>UG</td>\n",
       "      <td>2</td>\n",
       "      <td>1</td>\n",
       "      <td>4</td>\n",
       "      <td>0</td>\n",
       "    </tr>\n",
       "    <tr>\n",
       "      <th>3</th>\n",
       "      <td>44</td>\n",
       "      <td>Sales</td>\n",
       "      <td>City</td>\n",
       "      <td>2</td>\n",
       "      <td>On-Campus</td>\n",
       "      <td>3</td>\n",
       "      <td>1</td>\n",
       "      <td>PG</td>\n",
       "      <td>0</td>\n",
       "      <td>0</td>\n",
       "      <td>3</td>\n",
       "      <td>1</td>\n",
       "    </tr>\n",
       "    <tr>\n",
       "      <th>4</th>\n",
       "      <td>33</td>\n",
       "      <td>HR</td>\n",
       "      <td>City</td>\n",
       "      <td>2</td>\n",
       "      <td>Recruitment Agency</td>\n",
       "      <td>1</td>\n",
       "      <td>1</td>\n",
       "      <td>UG</td>\n",
       "      <td>1</td>\n",
       "      <td>1</td>\n",
       "      <td>0</td>\n",
       "      <td>1</td>\n",
       "    </tr>\n",
       "  </tbody>\n",
       "</table>\n",
       "</div>"
      ],
      "text/plain": [
       "   age        Dept location  job_level    recruitment_type  rating  satisfied  \\\n",
       "0   28          HR   Suburb          5            Referral       2          1   \n",
       "1   50  Technology   Suburb          3             Walk-in       5          0   \n",
       "2   43  Technology   Suburb          4            Referral       1          0   \n",
       "3   44       Sales     City          2           On-Campus       3          1   \n",
       "4   33          HR     City          2  Recruitment Agency       1          1   \n",
       "\n",
       "  education  recruitment_type1  education1  Dept1  location1  \n",
       "0        PG                  2           0      0          0  \n",
       "1        PG                  3           0      4          0  \n",
       "2        UG                  2           1      4          0  \n",
       "3        PG                  0           0      3          1  \n",
       "4        UG                  1           1      0          1  "
      ]
     },
     "execution_count": 108,
     "metadata": {},
     "output_type": "execute_result"
    }
   ],
   "source": [
    "emsain.head()"
   ]
  },
  {
   "cell_type": "code",
   "execution_count": 109,
   "id": "1ebb92ce",
   "metadata": {},
   "outputs": [],
   "source": [
    "# Testing for Linearity and Normality"
   ]
  },
  {
   "cell_type": "code",
   "execution_count": 110,
   "id": "441c6272",
   "metadata": {},
   "outputs": [
    {
     "name": "stderr",
     "output_type": "stream",
     "text": [
      "/opt/anaconda3/lib/python3.9/site-packages/seaborn/distributions.py:2619: FutureWarning: `distplot` is a deprecated function and will be removed in a future version. Please adapt your code to use either `displot` (a figure-level function with similar flexibility) or `histplot` (an axes-level function for histograms).\n",
      "  warnings.warn(msg, FutureWarning)\n"
     ]
    },
    {
     "data": {
      "text/plain": [
       "<AxesSubplot:xlabel='age', ylabel='Density'>"
      ]
     },
     "execution_count": 110,
     "metadata": {},
     "output_type": "execute_result"
    },
    {
     "data": {
      "image/png": "[encoded data removed]",
      "text/plain": [
       "<Figure size 640x480 with 1 Axes>"
      ]
     },
     "metadata": {},
     "output_type": "display_data"
    }
   ],
   "source": [
    "sns.distplot(emsain['age'])"
   ]
  },
  {
   "cell_type": "code",
   "execution_count": 111,
   "id": "8297a1a8",
   "metadata": {},
   "outputs": [
    {
     "name": "stderr",
     "output_type": "stream",
     "text": [
      "/opt/anaconda3/lib/python3.9/site-packages/seaborn/distributions.py:2619: FutureWarning: `distplot` is a deprecated function and will be removed in a future version. Please adapt your code to use either `displot` (a figure-level function with similar flexibility) or `histplot` (an axes-level function for histograms).\n",
      "  warnings.warn(msg, FutureWarning)\n"
     ]
    },
    {
     "data": {
      "text/plain": [
       "<AxesSubplot:xlabel='satisfied', ylabel='Density'>"
      ]
     },
     "execution_count": 111,
     "metadata": {},
     "output_type": "execute_result"
    },
    {
     "data": {
      "image/png": "[encoded data removed]",
      "text/plain": [
       "<Figure size 640x480 with 1 Axes>"
      ]
     },
     "metadata": {},
     "output_type": "display_data"
    }
   ],
   "source": [
    "sns.distplot(emsain['satisfied'])"
   ]
  },
  {
   "cell_type": "code",
   "execution_count": 112,
   "id": "8eba7b37",
   "metadata": {},
   "outputs": [],
   "source": [
    "## From this you are able to see that there are more employees satisfied than not."
   ]
  },
  {
   "cell_type": "code",
   "execution_count": 113,
   "id": "5c26716d",
   "metadata": {},
   "outputs": [
    {
     "name": "stderr",
     "output_type": "stream",
     "text": [
      "/opt/anaconda3/lib/python3.9/site-packages/seaborn/distributions.py:2619: FutureWarning: `distplot` is a deprecated function and will be removed in a future version. Please adapt your code to use either `displot` (a figure-level function with similar flexibility) or `histplot` (an axes-level function for histograms).\n",
      "  warnings.warn(msg, FutureWarning)\n"
     ]
    },
    {
     "data": {
      "text/plain": [
       "<AxesSubplot:xlabel='age', ylabel='Density'>"
      ]
     },
     "execution_count": 113,
     "metadata": {},
     "output_type": "execute_result"
    },
    {
     "data": {
      "image/png": "[encoded data removed]",
      "text/plain": [
       "<Figure size 640x480 with 1 Axes>"
      ]
     },
     "metadata": {},
     "output_type": "display_data"
    }
   ],
   "source": [
    "sns.distplot(emsain['age'])"
   ]
  },
  {
   "cell_type": "code",
   "execution_count": 114,
   "id": "eb00da4a",
   "metadata": {},
   "outputs": [],
   "source": [
    "## Ages range from early 20's to early 50's, to be technical the ages range from 23-54"
   ]
  },
  {
   "cell_type": "code",
   "execution_count": 115,
   "id": "fbd75ac6",
   "metadata": {},
   "outputs": [
    {
     "name": "stderr",
     "output_type": "stream",
     "text": [
      "/opt/anaconda3/lib/python3.9/site-packages/seaborn/distributions.py:2619: FutureWarning: `distplot` is a deprecated function and will be removed in a future version. Please adapt your code to use either `displot` (a figure-level function with similar flexibility) or `histplot` (an axes-level function for histograms).\n",
      "  warnings.warn(msg, FutureWarning)\n"
     ]
    },
    {
     "data": {
      "text/plain": [
       "<AxesSubplot:xlabel='location1', ylabel='Density'>"
      ]
     },
     "execution_count": 115,
     "metadata": {},
     "output_type": "execute_result"
    },
    {
     "data": {
      "image/png": "[encoded data removed]",
      "text/plain": [
       "<Figure size 640x480 with 1 Axes>"
      ]
     },
     "metadata": {},
     "output_type": "display_data"
    }
   ],
   "source": [
    "sns.distplot(emsain['location1'])"
   ]
  },
  {
   "cell_type": "code",
   "execution_count": 117,
   "id": "aab45ac4",
   "metadata": {},
   "outputs": [],
   "source": [
    "## This tells me that more people are from the city than the suburbs"
   ]
  },
  {
   "cell_type": "code",
   "execution_count": 138,
   "id": "7752355c",
   "metadata": {},
   "outputs": [],
   "source": [
    "emsain.to_csv('emsain.csv,index=TRUE')"
   ]
  },
  {
   "cell_type": "code",
   "execution_count": 119,
   "id": "12e7f2fe",
   "metadata": {},
   "outputs": [
    {
     "data": {
      "image/png": "[encoded data removed]",
      "text/plain": [
       "<Figure size 640x480 with 1 Axes>"
      ]
     },
     "metadata": {},
     "output_type": "display_data"
    }
   ],
   "source": [
    "x = [23, 24, 25, 26, 27, 28, 29, 30, 31, 32, \n",
    "       33, 34, 35, 36, 37, 38, 39, 40, 41, 42, \n",
    "       43, 44, 45, 46, 47, 48, 49, 50, 51, 52, 53, 54]\n",
    "plt.hist(x, bins=10)\n",
    "plt.show()"
   ]
  },
  {
   "cell_type": "code",
   "execution_count": 120,
   "id": "2f6b08c0",
   "metadata": {},
   "outputs": [
    {
     "name": "stderr",
     "output_type": "stream",
     "text": [
      "/opt/anaconda3/lib/python3.9/site-packages/seaborn/distributions.py:2619: FutureWarning: `distplot` is a deprecated function and will be removed in a future version. Please adapt your code to use either `displot` (a figure-level function with similar flexibility) or `histplot` (an axes-level function for histograms).\n",
      "  warnings.warn(msg, FutureWarning)\n"
     ]
    },
    {
     "data": {
      "text/plain": [
       "<AxesSubplot:xlabel='age', ylabel='Density'>"
      ]
     },
     "execution_count": 120,
     "metadata": {},
     "output_type": "execute_result"
    },
    {
     "data": {
      "image/png": "[encoded data removed]",
      "text/plain": [
       "<Figure size 640x480 with 1 Axes>"
      ]
     },
     "metadata": {},
     "output_type": "display_data"
    }
   ],
   "source": [
    "sns.distplot(emsain['age'])"
   ]
  },
  {
   "cell_type": "code",
   "execution_count": 121,
   "id": "917832a5",
   "metadata": {},
   "outputs": [
    {
     "name": "stderr",
     "output_type": "stream",
     "text": [
      "/opt/anaconda3/lib/python3.9/site-packages/seaborn/distributions.py:2619: FutureWarning: `distplot` is a deprecated function and will be removed in a future version. Please adapt your code to use either `displot` (a figure-level function with similar flexibility) or `histplot` (an axes-level function for histograms).\n",
      "  warnings.warn(msg, FutureWarning)\n"
     ]
    },
    {
     "data": {
      "text/plain": [
       "<AxesSubplot:xlabel='rating', ylabel='Density'>"
      ]
     },
     "execution_count": 121,
     "metadata": {},
     "output_type": "execute_result"
    },
    {
     "data": {
      "image/png": "[encoded data removed]",
      "text/plain": [
       "<Figure size 640x480 with 1 Axes>"
      ]
     },
     "metadata": {},
     "output_type": "display_data"
    }
   ],
   "source": [
    "sns.distplot(emsain['rating'])"
   ]
  },
  {
   "cell_type": "code",
   "execution_count": 122,
   "id": "1ebde5cd",
   "metadata": {},
   "outputs": [
    {
     "name": "stderr",
     "output_type": "stream",
     "text": [
      "/opt/anaconda3/lib/python3.9/site-packages/seaborn/distributions.py:2619: FutureWarning: `distplot` is a deprecated function and will be removed in a future version. Please adapt your code to use either `displot` (a figure-level function with similar flexibility) or `histplot` (an axes-level function for histograms).\n",
      "  warnings.warn(msg, FutureWarning)\n"
     ]
    },
    {
     "data": {
      "text/plain": [
       "<AxesSubplot:xlabel='satisfied', ylabel='Density'>"
      ]
     },
     "execution_count": 122,
     "metadata": {},
     "output_type": "execute_result"
    },
    {
     "data": {
      "image/png": "[encoded data removed]",
      "text/plain": [
       "<Figure size 640x480 with 1 Axes>"
      ]
     },
     "metadata": {},
     "output_type": "display_data"
    }
   ],
   "source": [
    "sns.distplot(emsain['satisfied'])"
   ]
  },
  {
   "cell_type": "code",
   "execution_count": 123,
   "id": "26203e44",
   "metadata": {},
   "outputs": [],
   "source": [
    "# Testing for Homoscedasticity"
   ]
  },
  {
   "cell_type": "code",
   "execution_count": 124,
   "id": "21cbca44",
   "metadata": {},
   "outputs": [],
   "source": [
    "x = emsain['satisfied']\n",
    "y = emsain['rating']"
   ]
  },
  {
   "cell_type": "code",
   "execution_count": 125,
   "id": "9b90dc52",
   "metadata": {},
   "outputs": [],
   "source": [
    "model = sm.OLS(y,x).fit()"
   ]
  },
  {
   "cell_type": "code",
   "execution_count": 126,
   "id": "b72f1c19",
   "metadata": {},
   "outputs": [
    {
     "name": "stdout",
     "output_type": "stream",
     "text": [
      "<statsmodels.regression.linear_model.RegressionResultsWrapper object at 0x7f982e60bb50>\n"
     ]
    }
   ],
   "source": [
    "print(model)"
   ]
  },
  {
   "cell_type": "code",
   "execution_count": 127,
   "id": "9035e614",
   "metadata": {},
   "outputs": [],
   "source": [
    "pred_val = model.fittedvalues.copy()\n",
    "true_val = emsain['satisfied'].values.copy()\n",
    "residual = true_val - pred_val"
   ]
  },
  {
   "cell_type": "code",
   "execution_count": 128,
   "id": "f81e81c2",
   "metadata": {},
   "outputs": [],
   "source": [
    "pred_val = model.fittedvalues.copy()\n",
    "true_val = emsain['rating'].values.copy()\n",
    "residual = true_val - pred_val"
   ]
  },
  {
   "cell_type": "code",
   "execution_count": 129,
   "id": "0dbe6ca7",
   "metadata": {},
   "outputs": [
    {
     "data": {
      "text/plain": [
       "(12.010628997840833, nan, 12.281627892046954, 0.0004986262045604675)"
      ]
     },
     "execution_count": 129,
     "metadata": {},
     "output_type": "execute_result"
    }
   ],
   "source": [
    "sms.diagnostic.het_breuschpagan(residual, emsain[['satisfied']])"
   ]
  },
  {
   "cell_type": "code",
   "execution_count": 130,
   "id": "6ed9e5da",
   "metadata": {},
   "outputs": [
    {
     "data": {
      "text/plain": [
       "(262.5066014567057, nan, 551.5555166179364, 1.0564526973610858e-82)"
      ]
     },
     "execution_count": 130,
     "metadata": {},
     "output_type": "execute_result"
    }
   ],
   "source": [
    "sms.diagnostic.het_breuschpagan(residual, ESI[['rating']])"
   ]
  },
  {
   "cell_type": "code",
   "execution_count": 131,
   "id": "d637da4b",
   "metadata": {},
   "outputs": [
    {
     "data": {
      "text/plain": [
       "Ttest_1sampResult(statistic=14.309774611344556, pvalue=3.9430572232127936e-39)"
      ]
     },
     "execution_count": 131,
     "metadata": {},
     "output_type": "execute_result"
    }
   ],
   "source": [
    "sms.linear_harvey_collier(model)"
   ]
  },
  {
   "cell_type": "code",
   "execution_count": 132,
   "id": "dbf1ee7c",
   "metadata": {},
   "outputs": [],
   "source": [
    "transformed, _ = boxcox(ESI['rating'])"
   ]
  },
  {
   "cell_type": "code",
   "execution_count": 133,
   "id": "a2b2714d",
   "metadata": {},
   "outputs": [
    {
     "data": {
      "text/html": [
       "<table class=\"simpletable\">\n",
       "<caption>OLS Regression Results</caption>\n",
       "<tr>\n",
       "  <th>Dep. Variable:</th>         <td>rating</td>      <th>  R-squared (uncentered):</th>      <td>   0.978</td> \n",
       "</tr>\n",
       "<tr>\n",
       "  <th>Model:</th>                   <td>OLS</td>       <th>  Adj. R-squared (uncentered):</th> <td>   0.978</td> \n",
       "</tr>\n",
       "<tr>\n",
       "  <th>Method:</th>             <td>Least Squares</td>  <th>  F-statistic:       </th>          <td>2.187e+04</td>\n",
       "</tr>\n",
       "<tr>\n",
       "  <th>Date:</th>             <td>Wed, 22 Mar 2023</td> <th>  Prob (F-statistic):</th>           <td>  0.00</td>  \n",
       "</tr>\n",
       "<tr>\n",
       "  <th>Time:</th>                 <td>13:15:42</td>     <th>  Log-Likelihood:    </th>          <td> -368.58</td> \n",
       "</tr>\n",
       "<tr>\n",
       "  <th>No. Observations:</th>      <td>   500</td>      <th>  AIC:               </th>          <td>   739.2</td> \n",
       "</tr>\n",
       "<tr>\n",
       "  <th>Df Residuals:</th>          <td>   499</td>      <th>  BIC:               </th>          <td>   743.4</td> \n",
       "</tr>\n",
       "<tr>\n",
       "  <th>Df Model:</th>              <td>     1</td>      <th>                     </th>              <td> </td>    \n",
       "</tr>\n",
       "<tr>\n",
       "  <th>Covariance Type:</th>      <td>nonrobust</td>    <th>                     </th>              <td> </td>    \n",
       "</tr>\n",
       "</table>\n",
       "<table class=\"simpletable\">\n",
       "<tr>\n",
       "   <td></td>     <th>coef</th>     <th>std err</th>      <th>t</th>      <th>P>|t|</th>  <th>[0.025</th>    <th>0.975]</th>  \n",
       "</tr>\n",
       "<tr>\n",
       "  <th>x1</th> <td>    1.6245</td> <td>    0.011</td> <td>  147.882</td> <td> 0.000</td> <td>    1.603</td> <td>    1.646</td>\n",
       "</tr>\n",
       "</table>\n",
       "<table class=\"simpletable\">\n",
       "<tr>\n",
       "  <th>Omnibus:</th>       <td>121.702</td> <th>  Durbin-Watson:     </th> <td>   1.396</td>\n",
       "</tr>\n",
       "<tr>\n",
       "  <th>Prob(Omnibus):</th> <td> 0.000</td>  <th>  Jarque-Bera (JB):  </th> <td>  51.262</td>\n",
       "</tr>\n",
       "<tr>\n",
       "  <th>Skew:</th>          <td> 0.609</td>  <th>  Prob(JB):          </th> <td>7.39e-12</td>\n",
       "</tr>\n",
       "<tr>\n",
       "  <th>Kurtosis:</th>      <td> 2.012</td>  <th>  Cond. No.          </th> <td>    1.00</td>\n",
       "</tr>\n",
       "</table><br/><br/>Notes:<br/>[1] R² is computed without centering (uncentered) since the model does not contain a constant.<br/>[2] Standard Errors assume that the covariance matrix of the errors is correctly specified."
      ],
      "text/plain": [
       "<class 'statsmodels.iolib.summary.Summary'>\n",
       "\"\"\"\n",
       "                                 OLS Regression Results                                \n",
       "=======================================================================================\n",
       "Dep. Variable:                 rating   R-squared (uncentered):                   0.978\n",
       "Model:                            OLS   Adj. R-squared (uncentered):              0.978\n",
       "Method:                 Least Squares   F-statistic:                          2.187e+04\n",
       "Date:                Wed, 22 Mar 2023   Prob (F-statistic):                        0.00\n",
       "Time:                        13:15:42   Log-Likelihood:                         -368.58\n",
       "No. Observations:                 500   AIC:                                      739.2\n",
       "Df Residuals:                     499   BIC:                                      743.4\n",
       "Df Model:                           1                                                  \n",
       "Covariance Type:            nonrobust                                                  \n",
       "==============================================================================\n",
       "                 coef    std err          t      P>|t|      [0.025      0.975]\n",
       "------------------------------------------------------------------------------\n",
       "x1             1.6245      0.011    147.882      0.000       1.603       1.646\n",
       "==============================================================================\n",
       "Omnibus:                      121.702   Durbin-Watson:                   1.396\n",
       "Prob(Omnibus):                  0.000   Jarque-Bera (JB):               51.262\n",
       "Skew:                           0.609   Prob(JB):                     7.39e-12\n",
       "Kurtosis:                       2.012   Cond. No.                         1.00\n",
       "==============================================================================\n",
       "\n",
       "Notes:\n",
       "[1] R² is computed without centering (uncentered) since the model does not contain a constant.\n",
       "[2] Standard Errors assume that the covariance matrix of the errors is correctly specified.\n",
       "\"\"\""
      ]
     },
     "execution_count": 133,
     "metadata": {},
     "output_type": "execute_result"
    }
   ],
   "source": [
    "x = transformed\n",
    "model1 = sm.OLS(y,x).fit()\n",
    "model1.summary()"
   ]
  },
  {
   "cell_type": "code",
   "execution_count": 134,
   "id": "67363c53",
   "metadata": {},
   "outputs": [],
   "source": [
    "pred_val = model1.fittedvalues.copy()\n",
    "true_val = ESI['satisfied'].values.copy()\n",
    "residual = true_val - pred_val"
   ]
  },
  {
   "cell_type": "code",
   "execution_count": 135,
   "id": "566694af",
   "metadata": {},
   "outputs": [],
   "source": [
    "pred_val = model1.fittedvalues.copy()\n",
    "true_val = ESI['rating'].values.copy()\n",
    "residual = true_val - pred_val"
   ]
  },
  {
   "cell_type": "code",
   "execution_count": 136,
   "id": "0b7f074e",
   "metadata": {},
   "outputs": [],
   "source": [
    "# Testing for Multicollinearity"
   ]
  },
  {
   "cell_type": "code",
   "execution_count": 137,
   "id": "9295b4c2",
   "metadata": {},
   "outputs": [
    {
     "data": {
      "text/html": [
       "<div>\n",
       "<style scoped>\n",
       "    .dataframe tbody tr th:only-of-type {\n",
       "        vertical-align: middle;\n",
       "    }\n",
       "\n",
       "    .dataframe tbody tr th {\n",
       "        vertical-align: top;\n",
       "    }\n",
       "\n",
       "    .dataframe thead th {\n",
       "        text-align: right;\n",
       "    }\n",
       "</style>\n",
       "<table border=\"1\" class=\"dataframe\">\n",
       "  <thead>\n",
       "    <tr style=\"text-align: right;\">\n",
       "      <th></th>\n",
       "      <th>age</th>\n",
       "      <th>job_level</th>\n",
       "      <th>rating</th>\n",
       "      <th>satisfied</th>\n",
       "      <th>recruitment_type1</th>\n",
       "      <th>education1</th>\n",
       "      <th>Dept1</th>\n",
       "      <th>location1</th>\n",
       "    </tr>\n",
       "  </thead>\n",
       "  <tbody>\n",
       "    <tr>\n",
       "      <th>age</th>\n",
       "      <td>1.000000</td>\n",
       "      <td>-0.057528</td>\n",
       "      <td>-0.096388</td>\n",
       "      <td>0.004490</td>\n",
       "      <td>0.043458</td>\n",
       "      <td>-0.011481</td>\n",
       "      <td>0.058815</td>\n",
       "      <td>-0.058575</td>\n",
       "    </tr>\n",
       "    <tr>\n",
       "      <th>job_level</th>\n",
       "      <td>-0.057528</td>\n",
       "      <td>1.000000</td>\n",
       "      <td>0.081829</td>\n",
       "      <td>0.010093</td>\n",
       "      <td>0.072776</td>\n",
       "      <td>0.014423</td>\n",
       "      <td>-0.038130</td>\n",
       "      <td>0.007632</td>\n",
       "    </tr>\n",
       "    <tr>\n",
       "      <th>rating</th>\n",
       "      <td>-0.096388</td>\n",
       "      <td>0.081829</td>\n",
       "      <td>1.000000</td>\n",
       "      <td>0.093024</td>\n",
       "      <td>-0.062106</td>\n",
       "      <td>0.054200</td>\n",
       "      <td>-0.007573</td>\n",
       "      <td>0.026293</td>\n",
       "    </tr>\n",
       "    <tr>\n",
       "      <th>satisfied</th>\n",
       "      <td>0.004490</td>\n",
       "      <td>0.010093</td>\n",
       "      <td>0.093024</td>\n",
       "      <td>1.000000</td>\n",
       "      <td>-0.033818</td>\n",
       "      <td>-0.027208</td>\n",
       "      <td>0.048077</td>\n",
       "      <td>0.030188</td>\n",
       "    </tr>\n",
       "    <tr>\n",
       "      <th>recruitment_type1</th>\n",
       "      <td>0.043458</td>\n",
       "      <td>0.072776</td>\n",
       "      <td>-0.062106</td>\n",
       "      <td>-0.033818</td>\n",
       "      <td>1.000000</td>\n",
       "      <td>-0.063192</td>\n",
       "      <td>-0.007883</td>\n",
       "      <td>-0.019606</td>\n",
       "    </tr>\n",
       "    <tr>\n",
       "      <th>education1</th>\n",
       "      <td>-0.011481</td>\n",
       "      <td>0.014423</td>\n",
       "      <td>0.054200</td>\n",
       "      <td>-0.027208</td>\n",
       "      <td>-0.063192</td>\n",
       "      <td>1.000000</td>\n",
       "      <td>0.003809</td>\n",
       "      <td>0.092648</td>\n",
       "    </tr>\n",
       "    <tr>\n",
       "      <th>Dept1</th>\n",
       "      <td>0.058815</td>\n",
       "      <td>-0.038130</td>\n",
       "      <td>-0.007573</td>\n",
       "      <td>0.048077</td>\n",
       "      <td>-0.007883</td>\n",
       "      <td>0.003809</td>\n",
       "      <td>1.000000</td>\n",
       "      <td>0.053267</td>\n",
       "    </tr>\n",
       "    <tr>\n",
       "      <th>location1</th>\n",
       "      <td>-0.058575</td>\n",
       "      <td>0.007632</td>\n",
       "      <td>0.026293</td>\n",
       "      <td>0.030188</td>\n",
       "      <td>-0.019606</td>\n",
       "      <td>0.092648</td>\n",
       "      <td>0.053267</td>\n",
       "      <td>1.000000</td>\n",
       "    </tr>\n",
       "  </tbody>\n",
       "</table>\n",
       "</div>"
      ],
      "text/plain": [
       "                        age  job_level    rating  satisfied  \\\n",
       "age                1.000000  -0.057528 -0.096388   0.004490   \n",
       "job_level         -0.057528   1.000000  0.081829   0.010093   \n",
       "rating            -0.096388   0.081829  1.000000   0.093024   \n",
       "satisfied          0.004490   0.010093  0.093024   1.000000   \n",
       "recruitment_type1  0.043458   0.072776 -0.062106  -0.033818   \n",
       "education1        -0.011481   0.014423  0.054200  -0.027208   \n",
       "Dept1              0.058815  -0.038130 -0.007573   0.048077   \n",
       "location1         -0.058575   0.007632  0.026293   0.030188   \n",
       "\n",
       "                   recruitment_type1  education1     Dept1  location1  \n",
       "age                         0.043458   -0.011481  0.058815  -0.058575  \n",
       "job_level                   0.072776    0.014423 -0.038130   0.007632  \n",
       "rating                     -0.062106    0.054200 -0.007573   0.026293  \n",
       "satisfied                  -0.033818   -0.027208  0.048077   0.030188  \n",
       "recruitment_type1           1.000000   -0.063192 -0.007883  -0.019606  \n",
       "education1                 -0.063192    1.000000  0.003809   0.092648  \n",
       "Dept1                      -0.007883    0.003809  1.000000   0.053267  \n",
       "location1                  -0.019606    0.092648  0.053267   1.000000  "
      ]
     },
     "execution_count": 137,
     "metadata": {},
     "output_type": "execute_result"
    }
   ],
   "source": [
    "emsain.corr()"
   ]
  },
  {
   "cell_type": "code",
   "execution_count": null,
   "id": "77fc3bec",
   "metadata": {},
   "outputs": [],
   "source": []
  }
 ],
 "metadata": {
  "kernelspec": {
   "display_name": "Python 3 (ipykernel)",
   "language": "python",
   "name": "python3"
  },
  "language_info": {
   "codemirror_mode": {
    "name": "ipython",
    "version": 3
   },
   "file_extension": ".py",
   "mimetype": "text/x-python",
   "name": "python",
   "nbconvert_exporter": "python",
   "pygments_lexer": "ipython3",
   "version": "3.9.13"
  }
 },
 "nbformat": 4,
 "nbformat_minor": 5
}
